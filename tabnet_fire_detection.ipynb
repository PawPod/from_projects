{
  "nbformat": 4,
  "nbformat_minor": 0,
  "metadata": {
    "colab": {
      "name": "TabNet_Pawel_Podolski.ipynb",
      "provenance": [],
      "collapsed_sections": []
    },
    "kernelspec": {
      "name": "python3",
      "display_name": "Python 3"
    },
    "language_info": {
      "name": "python"
    },
    "accelerator": "GPU"
  },
  "cells": [
    {
      "cell_type": "markdown",
      "metadata": {
        "id": "jLtdf9wHmGBX"
      },
      "source": [
        "# TabNet model (Omdena Dryad Project)"
      ]
    },
    {
      "cell_type": "markdown",
      "metadata": {
        "id": "zqmqM1PM6f9K"
      },
      "source": [
        "**The official Omdena Dryad Project repository can be found here:**\n",
        "\n",
        "https://github.com/OmdenaAI/Dryad\n",
        "\n",
        "**Data used in this notebook can be downloaded from:**\n",
        "\n",
        "https://github.com/OmdenaAI/Dryad/tree/task-1-data-preprocessing/released_datasets/v2/C\n",
        "\n",
        "**You can find more about the TabNet model here:**\n",
        "\n",
        "https://arxiv.org/abs/1908.07442\n",
        "\n",
        "https://dreamquark-ai.github.io/tabnet/\n",
        "\n",
        "https://cloud.google.com/ai-platform/training/docs/algorithms/reference/tab-net?hl=fr\n",
        "\n",
        "https://towardsdatascience.com/tabnet-deep-neural-network-for-structured-tabular-data-39eb4b27a9e4"
      ]
    },
    {
      "cell_type": "markdown",
      "metadata": {
        "id": "PqHZFoUHHCx9"
      },
      "source": [
        "## Dependencies"
      ]
    },
    {
      "cell_type": "code",
      "metadata": {
        "colab": {
          "base_uri": "https://localhost:8080/"
        },
        "id": "hyZXZFJR0K9W",
        "outputId": "53ce1127-9cd5-4127-c0de-27b8bdce9c57"
      },
      "source": [
        "from google.colab import drive\n",
        "drive.mount('/content/gdrive')"
      ],
      "execution_count": 1,
      "outputs": [
        {
          "output_type": "stream",
          "name": "stdout",
          "text": [
            "Drive already mounted at /content/gdrive; to attempt to forcibly remount, call drive.mount(\"/content/gdrive\", force_remount=True).\n"
          ]
        }
      ]
    },
    {
      "cell_type": "code",
      "metadata": {
        "colab": {
          "base_uri": "https://localhost:8080/"
        },
        "id": "IBgeO1i2-iXt",
        "outputId": "8c277b1a-fa6e-4c96-ce7e-65607b0aab51"
      },
      "source": [
        "pip install pytorch-tabnet"
      ],
      "execution_count": 2,
      "outputs": [
        {
          "output_type": "stream",
          "name": "stdout",
          "text": [
            "Requirement already satisfied: pytorch-tabnet in /usr/local/lib/python3.7/dist-packages (3.1.1)\n",
            "Requirement already satisfied: tqdm<5.0,>=4.36 in /usr/local/lib/python3.7/dist-packages (from pytorch-tabnet) (4.62.3)\n",
            "Requirement already satisfied: numpy<2.0,>=1.17 in /usr/local/lib/python3.7/dist-packages (from pytorch-tabnet) (1.19.5)\n",
            "Requirement already satisfied: torch<2.0,>=1.2 in /usr/local/lib/python3.7/dist-packages (from pytorch-tabnet) (1.9.0+cu111)\n",
            "Requirement already satisfied: scipy>1.4 in /usr/local/lib/python3.7/dist-packages (from pytorch-tabnet) (1.4.1)\n",
            "Requirement already satisfied: scikit_learn>0.21 in /usr/local/lib/python3.7/dist-packages (from pytorch-tabnet) (0.22.2.post1)\n",
            "Requirement already satisfied: joblib>=0.11 in /usr/local/lib/python3.7/dist-packages (from scikit_learn>0.21->pytorch-tabnet) (1.0.1)\n",
            "Requirement already satisfied: typing-extensions in /usr/local/lib/python3.7/dist-packages (from torch<2.0,>=1.2->pytorch-tabnet) (3.7.4.3)\n"
          ]
        }
      ]
    },
    {
      "cell_type": "code",
      "metadata": {
        "id": "gjHOo95zxmmL"
      },
      "source": [
        "from datetime import datetime, date\n",
        "\n",
        "import random\n",
        "import numpy as np\n",
        "import pandas as pd\n",
        "\n",
        "from sklearn.metrics import accuracy_score, precision_score, recall_score, f1_score, roc_auc_score, matthews_corrcoef, confusion_matrix\n",
        "\n",
        "import pytorch_tabnet\n",
        "from pytorch_tabnet.metrics import Metric\n",
        "from pytorch_tabnet.tab_model import TabNetClassifier\n",
        "import torch\n",
        "\n",
        "#from imblearn.over_sampling import SMOTE, ADASYN\n",
        "#from imblearn.combine import SMOTETomek, SMOTEENN\n",
        "\n",
        "import matplotlib.pyplot as plt\n",
        "%matplotlib inline\n",
        "\n",
        "import warnings\n",
        "warnings.filterwarnings('ignore')"
      ],
      "execution_count": 3,
      "outputs": []
    },
    {
      "cell_type": "markdown",
      "metadata": {
        "id": "Gs1czXnfKTGK"
      },
      "source": [
        "## Variable settings"
      ]
    },
    {
      "cell_type": "code",
      "metadata": {
        "id": "yW3yyKlSKSfl"
      },
      "source": [
        "path = 'gdrive/My Drive/Dryad/C/' # path to csv files stored on gdrive\n",
        "\n",
        "SEED = 42\n",
        "\n",
        "SAMPLING_STRATEGY =  0.5 # 'auto'\n",
        "# This is a SMOTE parameter: if float, it corresponds to the desired ratio of the number of samples\n",
        "# in the minority class over the number of samples in the majority class after resampling\n",
        "\n",
        "WITH_SMOTE = False"
      ],
      "execution_count": 4,
      "outputs": []
    },
    {
      "cell_type": "markdown",
      "metadata": {
        "id": "PdK7iDDyJZjB"
      },
      "source": [
        "## Data upload function"
      ]
    },
    {
      "cell_type": "code",
      "metadata": {
        "id": "kOVTZECa1P2n"
      },
      "source": [
        "def load_data():\n",
        "\n",
        "  train_set = pd.read_csv(path + 'train_set.csv')\n",
        "  valid_set = pd.read_csv(path + 'valid_set.csv')\n",
        "  test_set = pd.read_csv(path + 'test_set.csv')\n",
        "\n",
        "  train_set['set'] = 'train'\n",
        "  valid_set['set'] = 'valid'\n",
        "  test_set['set'] = 'test'\n",
        "\n",
        "  all_data = pd.concat([train_set, valid_set, test_set])\n",
        "\n",
        "  return all_data"
      ],
      "execution_count": 5,
      "outputs": []
    },
    {
      "cell_type": "markdown",
      "metadata": {
        "id": "aPaIc5CqHo9r"
      },
      "source": [
        "## Data preprocessing functions"
      ]
    },
    {
      "cell_type": "code",
      "metadata": {
        "id": "vnACGbwk89uP"
      },
      "source": [
        "def split_data(all_data):\n",
        "\n",
        "  # all_data = all_data[all_data['gas_scan_cnt'] > 1]\n",
        "\n",
        "  gas_scan_features = ['gas_scan_' + str(i) for i in range(10)]\n",
        "  temp_features = ['temp_' + str(i) for i in range(10)]\n",
        "  humid_features = ['humid_' + str(i) for i in range(10)]\n",
        "\n",
        "  all_data['temp_mean'] = all_data[temp_features].mean(axis=1)\n",
        "  all_data['humid_mean'] = all_data[humid_features].mean(axis=1)\n",
        "\n",
        "  features = gas_scan_features[1:] # + temp_features + humid_features + ['temp_mean', 'humid_mean']\n",
        "\n",
        "  X_train = all_data[all_data['set'] == 'train'][features]\n",
        "  y_train = all_data[all_data['set'] == 'train']['encoded_specimen']\n",
        "\n",
        "  X_val = all_data[all_data['set'] == 'valid'][features]\n",
        "  y_val = all_data[all_data['set'] == 'valid']['encoded_specimen']\n",
        "\n",
        "  X_test = all_data[all_data['set'] == 'test'][features]\n",
        "  y_test = all_data[all_data['set'] == 'test']['encoded_specimen']\n",
        "\n",
        "  X_train= X_train.to_numpy()\n",
        "  X_val = X_val.to_numpy()\n",
        "  X_test = X_test.to_numpy()\n",
        "  y_train = y_train.to_numpy()\n",
        "  y_val = y_val.to_numpy()\n",
        "  y_test = y_test.to_numpy()\n",
        "\n",
        "  return X_train, X_val, X_test, y_train, y_val, y_test"
      ],
      "execution_count": 6,
      "outputs": []
    },
    {
      "cell_type": "code",
      "metadata": {
        "id": "O-UDbDSGINty"
      },
      "source": [
        "def apply_smote(X_train, y_train, SAMPLING_STRATEGY, seed=SEED):\n",
        "  \n",
        "  smote = SMOTE(sampling_strategy=SAMPLING_STRATEGY, random_state=SEED, k_neighbors=5, n_jobs=-1)\n",
        "  #smote = ADASYN(sampling_strategy=SAMPLING_STRATEGY, random_state=SEED, n_neighbors=5, n_jobs=-1)\n",
        "  #smote = SMOTETomek(sampling_strategy=SAMPLING_STRATEGY, random_state=SEED)\n",
        "  #smote = SMOTEENN(sampling_strategy=SAMPLING_STRATEGY, random_state=SEED)\n",
        "\n",
        "  X_train_smote, y_train_smote = smote.fit_sample(X_train, y_train)\n",
        "  X_train_smote = pd.DataFrame(X_train_smote, columns=X_train.columns)\n",
        "\n",
        "  return X_train_smote, y_train_smote"
      ],
      "execution_count": 7,
      "outputs": []
    },
    {
      "cell_type": "markdown",
      "metadata": {
        "id": "Z0zH-0RRCQ36"
      },
      "source": [
        "## Model training functions"
      ]
    },
    {
      "cell_type": "code",
      "metadata": {
        "id": "G0KA1A5VnJ5D"
      },
      "source": [
        "class Specificity(Metric):\n",
        "  def __init__(self):\n",
        "    self._name = 'specificity'\n",
        "    self._maximize = True\n",
        "\n",
        "  def __call__(self, y_true, y_score):\n",
        "    return recall_score(y_true, y_score[:, 1], pos_label=0)"
      ],
      "execution_count": 8,
      "outputs": []
    },
    {
      "cell_type": "code",
      "metadata": {
        "id": "Dfz38HHIMja0"
      },
      "source": [
        "class F1score(Metric):\n",
        "  def __init__(self):\n",
        "    self._name = 'f1'\n",
        "    self._maximize = True\n",
        "\n",
        "  def __call__(self, y_true, y_score):\n",
        "    return f1_score(y_true, y_score[:, 1])"
      ],
      "execution_count": 9,
      "outputs": []
    },
    {
      "cell_type": "code",
      "metadata": {
        "id": "EY1OqlJJDlTG"
      },
      "source": [
        "def train_model(X_train, y_train, X_val, y_val, with_smote=WITH_SMOTE):\n",
        "\n",
        "  if with_smote == True:\n",
        "    X_train, y_train = apply_smote(X_train, y_train, SAMPLING_STRATEGY)\n",
        "  \n",
        "  tabnet_clf = TabNetClassifier(n_d=16, # 16\n",
        "                                n_a=16, # 16\n",
        "                                optimizer_fn=torch.optim.Adam,\n",
        "                                optimizer_params=dict(lr=2e-2), # 2e-2\n",
        "                                scheduler_params={'step_size': 25, 'gamma': 0.8}, # 25, 0.8\n",
        "                                scheduler_fn=torch.optim.lr_scheduler.StepLR,\n",
        "                                mask_type='entmax'\n",
        "                                )\n",
        "  \n",
        "  tabnet_clf.fit(\n",
        "      X_train, y_train,\n",
        "      eval_set=[(X_train, y_train), (X_val, y_val)],\n",
        "      eval_name=['train', 'valid'],\n",
        "      eval_metric= ['auc', 'accuracy'],\n",
        "      max_epochs=1000,\n",
        "      patience=50,\n",
        "      batch_size=1024, # 1024\n",
        "      virtual_batch_size=512, # 512\n",
        "      num_workers=0,\n",
        "      weights=1,\n",
        "      drop_last=False\n",
        "      )                \n",
        "   \n",
        "  return tabnet_clf"
      ],
      "execution_count": 10,
      "outputs": []
    },
    {
      "cell_type": "markdown",
      "metadata": {
        "id": "VTODR27HE4kX"
      },
      "source": [
        "## Model evaluation function"
      ]
    },
    {
      "cell_type": "code",
      "metadata": {
        "id": "IyiDh23HEhp7"
      },
      "source": [
        "def evaluate_model(clf, X, y_true, label=1):\n",
        "    \n",
        "    y_pred = clf.predict(X)\n",
        "    y_pred_proba = clf.predict_proba(X)[:, 1]\n",
        "    \n",
        "    eval_metrics = {\n",
        "        'Precision': round(precision_score(y_true, y_pred, pos_label=label), 3),\n",
        "        'Recall': round(recall_score(y_true, y_pred, pos_label=label), 3),\n",
        "        'F1': round(f1_score(y_true, y_pred, pos_label=label), 3)\n",
        "        }\n",
        "\n",
        "    tn, fp, fn, tp = confusion_matrix(y_true, y_pred).ravel()\n",
        "    specificity = tn / (tn + fp)\n",
        "\n",
        "    if label == 1:\n",
        "      eval_metrics['Accuracy'] = round(accuracy_score(y_true, y_pred), 3)\n",
        "      eval_metrics['AUC'] = round(roc_auc_score(y_true, y_pred_proba), 3)\n",
        "      eval_metrics['Specificity'] = round(specificity, 3)\n",
        "      eval_metrics['MCC'] = round(matthews_corrcoef(y_true, y_pred), 3)\n",
        "      # eval_metrics['Confusion matrix'] = confusion_matrix(y_true, y_pred)\n",
        "\n",
        "    return eval_metrics"
      ],
      "execution_count": 11,
      "outputs": []
    },
    {
      "cell_type": "markdown",
      "metadata": {
        "id": "WuQ9M5e6JY6I"
      },
      "source": [
        "## Run the training & inference process"
      ]
    },
    {
      "cell_type": "code",
      "metadata": {
        "id": "d9pf5GEKI14P",
        "colab": {
          "base_uri": "https://localhost:8080/"
        },
        "outputId": "3549bc47-1755-4599-907f-9f4b5342a2d9"
      },
      "source": [
        "print('Loading data...\\n')\n",
        "all_data = load_data()\n",
        "\n",
        "print('Engineering features and splitting data into train/dev/test sets...\\n')\n",
        "X_train, X_val, X_test, y_train, y_val, y_test = split_data(all_data)\n",
        "\n",
        "print('Training model...')\n",
        "training_start_time = datetime.now()\n",
        "tabnet_clf = train_model(X_train, y_train, X_val, y_val)\n",
        "training_time = datetime.now() - training_start_time\n",
        "\n",
        "print(f'Model training time: {training_time.seconds} seconds\\n')\n",
        "\n",
        "print('Evaluating model...\\n')\n",
        "val_metrics_1 = evaluate_model(tabnet_clf, X_val, y_val)\n",
        "print('Model validation metrics for class 1 (in_smoke):')\n",
        "for metric, val in val_metrics_1.items():\n",
        "  print(f'{metric}: {val}')\n",
        "print('\\n')\n",
        "\n",
        "val_metrics_0 = evaluate_model(tabnet_clf, X_val, y_val, label=0)\n",
        "print('Model validation metrics for class 0 (clean_air):')\n",
        "for metric, val in val_metrics_0.items():\n",
        "  print(f'{metric}: {val}')\n",
        "print('\\n')\n",
        "\n",
        "test_metrics_1 = evaluate_model(tabnet_clf, X_test, y_test)\n",
        "print('Model test metrics for class 1 (in_smoke):')\n",
        "for metric, val in test_metrics_1.items():\n",
        "  print(f'{metric}: {val}')\n",
        "print('\\n')\n",
        "\n",
        "test_metrics_0 = evaluate_model(tabnet_clf, X_test, y_test, label=0)\n",
        "print('Model test metrics for class 0 (clean_air):')\n",
        "for metric, val in test_metrics_0.items():\n",
        "  print(f'{metric}: {val}')"
      ],
      "execution_count": 12,
      "outputs": [
        {
          "output_type": "stream",
          "name": "stdout",
          "text": [
            "Loading data...\n",
            "\n",
            "Engineering features and splitting data into train/dev/test sets...\n",
            "\n",
            "Training model...\n",
            "Device used : cuda\n",
            "epoch 0  | loss: 0.76544 | train_auc: 0.56682 | train_accuracy: 0.36204 | valid_auc: 0.55712 | valid_accuracy: 0.3714  |  0:00:00s\n",
            "epoch 1  | loss: 0.66944 | train_auc: 0.49126 | train_accuracy: 0.42604 | valid_auc: 0.51555 | valid_accuracy: 0.43605 |  0:00:01s\n",
            "epoch 2  | loss: 0.66121 | train_auc: 0.48069 | train_accuracy: 0.55149 | valid_auc: 0.48623 | valid_accuracy: 0.54318 |  0:00:01s\n",
            "epoch 3  | loss: 0.64619 | train_auc: 0.50792 | train_accuracy: 0.3833  | valid_auc: 0.49335 | valid_accuracy: 0.37471 |  0:00:02s\n",
            "epoch 4  | loss: 0.6259  | train_auc: 0.48716 | train_accuracy: 0.53068 | valid_auc: 0.50981 | valid_accuracy: 0.53799 |  0:00:02s\n",
            "epoch 5  | loss: 0.61164 | train_auc: 0.43622 | train_accuracy: 0.61207 | valid_auc: 0.47513 | valid_accuracy: 0.63473 |  0:00:03s\n",
            "epoch 6  | loss: 0.59392 | train_auc: 0.42256 | train_accuracy: 0.7079  | valid_auc: 0.44626 | valid_accuracy: 0.72345 |  0:00:04s\n",
            "epoch 7  | loss: 0.5839  | train_auc: 0.42169 | train_accuracy: 0.64302 | valid_auc: 0.43795 | valid_accuracy: 0.65927 |  0:00:04s\n",
            "epoch 8  | loss: 0.57901 | train_auc: 0.43028 | train_accuracy: 0.66131 | valid_auc: 0.45207 | valid_accuracy: 0.66824 |  0:00:05s\n",
            "epoch 9  | loss: 0.57098 | train_auc: 0.43374 | train_accuracy: 0.57661 | valid_auc: 0.44308 | valid_accuracy: 0.57527 |  0:00:05s\n",
            "epoch 10 | loss: 0.54487 | train_auc: 0.46158 | train_accuracy: 0.66968 | valid_auc: 0.45322 | valid_accuracy: 0.66494 |  0:00:06s\n",
            "epoch 11 | loss: 0.54844 | train_auc: 0.48189 | train_accuracy: 0.66241 | valid_auc: 0.52497 | valid_accuracy: 0.68476 |  0:00:06s\n",
            "epoch 12 | loss: 0.55534 | train_auc: 0.5077  | train_accuracy: 0.79436 | valid_auc: 0.51048 | valid_accuracy: 0.79424 |  0:00:07s\n",
            "epoch 13 | loss: 0.54802 | train_auc: 0.46396 | train_accuracy: 0.64115 | valid_auc: 0.48786 | valid_accuracy: 0.64559 |  0:00:07s\n",
            "epoch 14 | loss: 0.5389  | train_auc: 0.49112 | train_accuracy: 0.59974 | valid_auc: 0.50676 | valid_accuracy: 0.59887 |  0:00:08s\n",
            "epoch 15 | loss: 0.53833 | train_auc: 0.45676 | train_accuracy: 0.52946 | valid_auc: 0.4535  | valid_accuracy: 0.52619 |  0:00:09s\n",
            "epoch 16 | loss: 0.52783 | train_auc: 0.46004 | train_accuracy: 0.48452 | valid_auc: 0.45665 | valid_accuracy: 0.47428 |  0:00:09s\n",
            "epoch 17 | loss: 0.537   | train_auc: 0.53308 | train_accuracy: 0.56427 | valid_auc: 0.52073 | valid_accuracy: 0.56583 |  0:00:10s\n",
            "epoch 18 | loss: 0.52327 | train_auc: 0.53118 | train_accuracy: 0.6721  | valid_auc: 0.51228 | valid_accuracy: 0.67909 |  0:00:10s\n",
            "epoch 19 | loss: 0.52722 | train_auc: 0.52877 | train_accuracy: 0.5841  | valid_auc: 0.50974 | valid_accuracy: 0.58235 |  0:00:11s\n",
            "epoch 20 | loss: 0.51241 | train_auc: 0.59305 | train_accuracy: 0.62892 | valid_auc: 0.57152 | valid_accuracy: 0.61491 |  0:00:11s\n",
            "epoch 21 | loss: 0.49467 | train_auc: 0.58747 | train_accuracy: 0.77751 | valid_auc: 0.60207 | valid_accuracy: 0.7848  |  0:00:12s\n",
            "epoch 22 | loss: 0.48196 | train_auc: 0.62443 | train_accuracy: 0.77431 | valid_auc: 0.60926 | valid_accuracy: 0.77725 |  0:00:12s\n",
            "epoch 23 | loss: 0.49177 | train_auc: 0.5743  | train_accuracy: 0.77872 | valid_auc: 0.56371 | valid_accuracy: 0.7782  |  0:00:13s\n",
            "epoch 24 | loss: 0.4699  | train_auc: 0.706   | train_accuracy: 0.75173 | valid_auc: 0.68663 | valid_accuracy: 0.74092 |  0:00:14s\n",
            "epoch 25 | loss: 0.467   | train_auc: 0.64897 | train_accuracy: 0.77277 | valid_auc: 0.64484 | valid_accuracy: 0.77442 |  0:00:14s\n",
            "epoch 26 | loss: 0.47466 | train_auc: 0.67176 | train_accuracy: 0.77222 | valid_auc: 0.65046 | valid_accuracy: 0.75838 |  0:00:15s\n",
            "epoch 27 | loss: 0.46018 | train_auc: 0.74307 | train_accuracy: 0.69865 | valid_auc: 0.69987 | valid_accuracy: 0.68193 |  0:00:15s\n",
            "epoch 28 | loss: 0.46038 | train_auc: 0.6607  | train_accuracy: 0.544   | valid_auc: 0.64704 | valid_accuracy: 0.53327 |  0:00:16s\n",
            "epoch 29 | loss: 0.45279 | train_auc: 0.70505 | train_accuracy: 0.73081 | valid_auc: 0.6774  | valid_accuracy: 0.73101 |  0:00:16s\n",
            "epoch 30 | loss: 0.44542 | train_auc: 0.72765 | train_accuracy: 0.65415 | valid_auc: 0.71433 | valid_accuracy: 0.64087 |  0:00:17s\n",
            "epoch 31 | loss: 0.45428 | train_auc: 0.71388 | train_accuracy: 0.70569 | valid_auc: 0.70137 | valid_accuracy: 0.68429 |  0:00:17s\n",
            "epoch 32 | loss: 0.44453 | train_auc: 0.59975 | train_accuracy: 0.40687 | valid_auc: 0.60314 | valid_accuracy: 0.41482 |  0:00:18s\n",
            "epoch 33 | loss: 0.45216 | train_auc: 0.75543 | train_accuracy: 0.75625 | valid_auc: 0.74666 | valid_accuracy: 0.74941 |  0:00:18s\n",
            "epoch 34 | loss: 0.43347 | train_auc: 0.70199 | train_accuracy: 0.52087 | valid_auc: 0.69406 | valid_accuracy: 0.52572 |  0:00:19s\n",
            "epoch 35 | loss: 0.43476 | train_auc: 0.74402 | train_accuracy: 0.64611 | valid_auc: 0.70363 | valid_accuracy: 0.62482 |  0:00:20s\n",
            "epoch 36 | loss: 0.4444  | train_auc: 0.61445 | train_accuracy: 0.53739 | valid_auc: 0.60446 | valid_accuracy: 0.5328  |  0:00:20s\n",
            "epoch 37 | loss: 0.43861 | train_auc: 0.61307 | train_accuracy: 0.42516 | valid_auc: 0.59622 | valid_accuracy: 0.42803 |  0:00:21s\n",
            "epoch 38 | loss: 0.4284  | train_auc: 0.70919 | train_accuracy: 0.50215 | valid_auc: 0.68665 | valid_accuracy: 0.48891 |  0:00:21s\n",
            "epoch 39 | loss: 0.42029 | train_auc: 0.81979 | train_accuracy: 0.68455 | valid_auc: 0.78701 | valid_accuracy: 0.67721 |  0:00:22s\n",
            "epoch 40 | loss: 0.41494 | train_auc: 0.71554 | train_accuracy: 0.80306 | valid_auc: 0.68399 | valid_accuracy: 0.78811 |  0:00:22s\n",
            "epoch 41 | loss: 0.43525 | train_auc: 0.71876 | train_accuracy: 0.73918 | valid_auc: 0.69303 | valid_accuracy: 0.73336 |  0:00:23s\n",
            "epoch 42 | loss: 0.40396 | train_auc: 0.82506 | train_accuracy: 0.74711 | valid_auc: 0.78394 | valid_accuracy: 0.72959 |  0:00:23s\n",
            "epoch 43 | loss: 0.39954 | train_auc: 0.77928 | train_accuracy: 0.74975 | valid_auc: 0.73936 | valid_accuracy: 0.73667 |  0:00:24s\n",
            "epoch 44 | loss: 0.42277 | train_auc: 0.85087 | train_accuracy: 0.73973 | valid_auc: 0.82069 | valid_accuracy: 0.72157 |  0:00:25s\n",
            "epoch 45 | loss: 0.41741 | train_auc: 0.76467 | train_accuracy: 0.77663 | valid_auc: 0.74278 | valid_accuracy: 0.76262 |  0:00:25s\n",
            "epoch 46 | loss: 0.39952 | train_auc: 0.81085 | train_accuracy: 0.71979 | valid_auc: 0.78035 | valid_accuracy: 0.70505 |  0:00:26s\n",
            "epoch 47 | loss: 0.41053 | train_auc: 0.79502 | train_accuracy: 0.68113 | valid_auc: 0.75547 | valid_accuracy: 0.66494 |  0:00:26s\n",
            "epoch 48 | loss: 0.40103 | train_auc: 0.67978 | train_accuracy: 0.7904  | valid_auc: 0.66796 | valid_accuracy: 0.79235 |  0:00:27s\n",
            "epoch 49 | loss: 0.39143 | train_auc: 0.87068 | train_accuracy: 0.82575 | valid_auc: 0.84328 | valid_accuracy: 0.8117  |  0:00:28s\n",
            "epoch 50 | loss: 0.38793 | train_auc: 0.84143 | train_accuracy: 0.75041 | valid_auc: 0.79646 | valid_accuracy: 0.72912 |  0:00:28s\n",
            "epoch 51 | loss: 0.37832 | train_auc: 0.81848 | train_accuracy: 0.81198 | valid_auc: 0.78361 | valid_accuracy: 0.78764 |  0:00:29s\n",
            "epoch 52 | loss: 0.39307 | train_auc: 0.89096 | train_accuracy: 0.78346 | valid_auc: 0.85088 | valid_accuracy: 0.7631  |  0:00:29s\n",
            "epoch 53 | loss: 0.37182 | train_auc: 0.84467 | train_accuracy: 0.70801 | valid_auc: 0.80341 | valid_accuracy: 0.68617 |  0:00:30s\n",
            "epoch 54 | loss: 0.37231 | train_auc: 0.79651 | train_accuracy: 0.76451 | valid_auc: 0.76936 | valid_accuracy: 0.7513  |  0:00:30s\n",
            "epoch 55 | loss: 0.36622 | train_auc: 0.769   | train_accuracy: 0.6232  | valid_auc: 0.72531 | valid_accuracy: 0.61303 |  0:00:31s\n",
            "epoch 56 | loss: 0.37864 | train_auc: 0.71606 | train_accuracy: 0.55348 | valid_auc: 0.70339 | valid_accuracy: 0.54884 |  0:00:31s\n",
            "epoch 57 | loss: 0.36334 | train_auc: 0.88759 | train_accuracy: 0.71153 | valid_auc: 0.83832 | valid_accuracy: 0.68995 |  0:00:32s\n",
            "epoch 58 | loss: 0.3602  | train_auc: 0.88493 | train_accuracy: 0.7828  | valid_auc: 0.85092 | valid_accuracy: 0.76687 |  0:00:32s\n",
            "epoch 59 | loss: 0.36614 | train_auc: 0.89248 | train_accuracy: 0.7242  | valid_auc: 0.85275 | valid_accuracy: 0.70458 |  0:00:33s\n",
            "epoch 60 | loss: 0.35371 | train_auc: 0.80914 | train_accuracy: 0.62848 | valid_auc: 0.76696 | valid_accuracy: 0.6168  |  0:00:34s\n",
            "epoch 61 | loss: 0.34337 | train_auc: 0.79865 | train_accuracy: 0.71021 | valid_auc: 0.77057 | valid_accuracy: 0.70788 |  0:00:34s\n",
            "epoch 62 | loss: 0.34029 | train_auc: 0.8189  | train_accuracy: 0.74788 | valid_auc: 0.78751 | valid_accuracy: 0.72629 |  0:00:35s\n",
            "epoch 63 | loss: 0.35092 | train_auc: 0.90423 | train_accuracy: 0.81055 | valid_auc: 0.87337 | valid_accuracy: 0.78716 |  0:00:35s\n",
            "epoch 64 | loss: 0.3461  | train_auc: 0.81214 | train_accuracy: 0.63829 | valid_auc: 0.78731 | valid_accuracy: 0.63804 |  0:00:36s\n",
            "epoch 65 | loss: 0.34713 | train_auc: 0.82335 | train_accuracy: 0.68102 | valid_auc: 0.77513 | valid_accuracy: 0.65455 |  0:00:36s\n",
            "epoch 66 | loss: 0.3447  | train_auc: 0.79055 | train_accuracy: 0.65294 | valid_auc: 0.74884 | valid_accuracy: 0.62813 |  0:00:37s\n",
            "epoch 67 | loss: 0.34328 | train_auc: 0.86709 | train_accuracy: 0.78004 | valid_auc: 0.84514 | valid_accuracy: 0.7782  |  0:00:38s\n",
            "epoch 68 | loss: 0.36115 | train_auc: 0.78921 | train_accuracy: 0.58663 | valid_auc: 0.76998 | valid_accuracy: 0.59273 |  0:00:38s\n",
            "epoch 69 | loss: 0.34237 | train_auc: 0.69483 | train_accuracy: 0.55755 | valid_auc: 0.67105 | valid_accuracy: 0.53846 |  0:00:39s\n",
            "epoch 70 | loss: 0.33478 | train_auc: 0.81445 | train_accuracy: 0.63135 | valid_auc: 0.77901 | valid_accuracy: 0.62105 |  0:00:39s\n",
            "epoch 71 | loss: 0.32942 | train_auc: 0.83523 | train_accuracy: 0.81617 | valid_auc: 0.79817 | valid_accuracy: 0.80793 |  0:00:40s\n",
            "epoch 72 | loss: 0.34455 | train_auc: 0.80752 | train_accuracy: 0.6645  | valid_auc: 0.78391 | valid_accuracy: 0.64983 |  0:00:40s\n",
            "epoch 73 | loss: 0.32098 | train_auc: 0.91095 | train_accuracy: 0.86298 | valid_auc: 0.87712 | valid_accuracy: 0.84285 |  0:00:41s\n",
            "epoch 74 | loss: 0.32745 | train_auc: 0.85342 | train_accuracy: 0.83996 | valid_auc: 0.83788 | valid_accuracy: 0.82681 |  0:00:42s\n",
            "epoch 75 | loss: 0.3259  | train_auc: 0.72202 | train_accuracy: 0.53651 | valid_auc: 0.71149 | valid_accuracy: 0.52383 |  0:00:42s\n",
            "epoch 76 | loss: 0.32026 | train_auc: 0.64614 | train_accuracy: 0.47263 | valid_auc: 0.62287 | valid_accuracy: 0.4705  |  0:00:43s\n",
            "epoch 77 | loss: 0.32108 | train_auc: 0.73838 | train_accuracy: 0.59974 | valid_auc: 0.70317 | valid_accuracy: 0.59509 |  0:00:43s\n",
            "epoch 78 | loss: 0.30996 | train_auc: 0.88304 | train_accuracy: 0.75063 | valid_auc: 0.84429 | valid_accuracy: 0.72015 |  0:00:44s\n",
            "epoch 79 | loss: 0.29181 | train_auc: 0.81584 | train_accuracy: 0.63333 | valid_auc: 0.79453 | valid_accuracy: 0.63001 |  0:00:44s\n",
            "epoch 80 | loss: 0.31493 | train_auc: 0.78842 | train_accuracy: 0.53794 | valid_auc: 0.75203 | valid_accuracy: 0.52194 |  0:00:45s\n",
            "epoch 81 | loss: 0.28875 | train_auc: 0.88228 | train_accuracy: 0.84866 | valid_auc: 0.85061 | valid_accuracy: 0.82681 |  0:00:46s\n",
            "epoch 82 | loss: 0.30479 | train_auc: 0.91886 | train_accuracy: 0.84833 | valid_auc: 0.89378 | valid_accuracy: 0.83011 |  0:00:46s\n",
            "epoch 83 | loss: 0.29789 | train_auc: 0.81618 | train_accuracy: 0.709   | valid_auc: 0.79012 | valid_accuracy: 0.70222 |  0:00:47s\n",
            "epoch 84 | loss: 0.29361 | train_auc: 0.85164 | train_accuracy: 0.83996 | valid_auc: 0.82117 | valid_accuracy: 0.82256 |  0:00:47s\n",
            "epoch 85 | loss: 0.27791 | train_auc: 0.8512  | train_accuracy: 0.65646 | valid_auc: 0.82006 | valid_accuracy: 0.63285 |  0:00:48s\n",
            "epoch 86 | loss: 0.30884 | train_auc: 0.84425 | train_accuracy: 0.69226 | valid_auc: 0.80421 | valid_accuracy: 0.66918 |  0:00:48s\n",
            "epoch 87 | loss: 0.29226 | train_auc: 0.76341 | train_accuracy: 0.59709 | valid_auc: 0.74229 | valid_accuracy: 0.5984  |  0:00:49s\n",
            "epoch 88 | loss: 0.28696 | train_auc: 0.82781 | train_accuracy: 0.63774 | valid_auc: 0.78301 | valid_accuracy: 0.62294 |  0:00:50s\n",
            "epoch 89 | loss: 0.29508 | train_auc: 0.80844 | train_accuracy: 0.72585 | valid_auc: 0.77295 | valid_accuracy: 0.71166 |  0:00:50s\n",
            "epoch 90 | loss: 0.30279 | train_auc: 0.73916 | train_accuracy: 0.5896  | valid_auc: 0.71504 | valid_accuracy: 0.5748  |  0:00:51s\n",
            "epoch 91 | loss: 0.28622 | train_auc: 0.73453 | train_accuracy: 0.55381 | valid_auc: 0.71561 | valid_accuracy: 0.54035 |  0:00:51s\n",
            "epoch 92 | loss: 0.3024  | train_auc: 0.8528  | train_accuracy: 0.72442 | valid_auc: 0.81789 | valid_accuracy: 0.71921 |  0:00:52s\n",
            "epoch 93 | loss: 0.29038 | train_auc: 0.72855 | train_accuracy: 0.58046 | valid_auc: 0.71242 | valid_accuracy: 0.58754 |  0:00:52s\n",
            "epoch 94 | loss: 0.29713 | train_auc: 0.65979 | train_accuracy: 0.46139 | valid_auc: 0.64784 | valid_accuracy: 0.46201 |  0:00:53s\n",
            "epoch 95 | loss: 0.28427 | train_auc: 0.80483 | train_accuracy: 0.69248 | valid_auc: 0.77591 | valid_accuracy: 0.6739  |  0:00:54s\n",
            "epoch 96 | loss: 0.27411 | train_auc: 0.64754 | train_accuracy: 0.47472 | valid_auc: 0.64511 | valid_accuracy: 0.4705  |  0:00:54s\n",
            "epoch 97 | loss: 0.29618 | train_auc: 0.72148 | train_accuracy: 0.59037 | valid_auc: 0.70508 | valid_accuracy: 0.58801 |  0:00:55s\n",
            "epoch 98 | loss: 0.28794 | train_auc: 0.89254 | train_accuracy: 0.7839  | valid_auc: 0.85845 | valid_accuracy: 0.77395 |  0:00:55s\n",
            "epoch 99 | loss: 0.28298 | train_auc: 0.81089 | train_accuracy: 0.63113 | valid_auc: 0.78695 | valid_accuracy: 0.61397 |  0:00:56s\n",
            "epoch 100| loss: 0.28122 | train_auc: 0.813   | train_accuracy: 0.63707 | valid_auc: 0.78134 | valid_accuracy: 0.61491 |  0:00:56s\n",
            "epoch 101| loss: 0.26608 | train_auc: 0.92812 | train_accuracy: 0.80064 | valid_auc: 0.89909 | valid_accuracy: 0.77631 |  0:00:57s\n",
            "epoch 102| loss: 0.27642 | train_auc: 0.90627 | train_accuracy: 0.84723 | valid_auc: 0.87273 | valid_accuracy: 0.83152 |  0:00:58s\n",
            "epoch 103| loss: 0.25924 | train_auc: 0.85278 | train_accuracy: 0.67981 | valid_auc: 0.81654 | valid_accuracy: 0.66966 |  0:00:58s\n",
            "epoch 104| loss: 0.26811 | train_auc: 0.89108 | train_accuracy: 0.80031 | valid_auc: 0.87218 | valid_accuracy: 0.78858 |  0:00:59s\n",
            "epoch 105| loss: 0.26576 | train_auc: 0.94877 | train_accuracy: 0.8393  | valid_auc: 0.91331 | valid_accuracy: 0.81076 |  0:00:59s\n",
            "epoch 106| loss: 0.26688 | train_auc: 0.8755  | train_accuracy: 0.85891 | valid_auc: 0.84591 | valid_accuracy: 0.83908 |  0:01:00s\n",
            "epoch 107| loss: 0.27828 | train_auc: 0.88111 | train_accuracy: 0.85747 | valid_auc: 0.8529  | valid_accuracy: 0.83577 |  0:01:00s\n",
            "epoch 108| loss: 0.26199 | train_auc: 0.91746 | train_accuracy: 0.85362 | valid_auc: 0.88334 | valid_accuracy: 0.83152 |  0:01:01s\n",
            "epoch 109| loss: 0.27215 | train_auc: 0.85231 | train_accuracy: 0.79778 | valid_auc: 0.81227 | valid_accuracy: 0.77442 |  0:01:02s\n",
            "epoch 110| loss: 0.25247 | train_auc: 0.93068 | train_accuracy: 0.8806  | valid_auc: 0.90027 | valid_accuracy: 0.85606 |  0:01:02s\n",
            "epoch 111| loss: 0.26485 | train_auc: 0.82852 | train_accuracy: 0.83743 | valid_auc: 0.80763 | valid_accuracy: 0.8235  |  0:01:03s\n",
            "epoch 112| loss: 0.26062 | train_auc: 0.86315 | train_accuracy: 0.84216 | valid_auc: 0.84521 | valid_accuracy: 0.83341 |  0:01:03s\n",
            "epoch 113| loss: 0.27078 | train_auc: 0.92543 | train_accuracy: 0.84547 | valid_auc: 0.89516 | valid_accuracy: 0.83011 |  0:01:04s\n",
            "epoch 114| loss: 0.26388 | train_auc: 0.79038 | train_accuracy: 0.64291 | valid_auc: 0.75884 | valid_accuracy: 0.63285 |  0:01:04s\n",
            "epoch 115| loss: 0.27376 | train_auc: 0.87449 | train_accuracy: 0.74303 | valid_auc: 0.85928 | valid_accuracy: 0.73431 |  0:01:05s\n",
            "epoch 116| loss: 0.27226 | train_auc: 0.90147 | train_accuracy: 0.84635 | valid_auc: 0.86502 | valid_accuracy: 0.81784 |  0:01:06s\n",
            "epoch 117| loss: 0.27221 | train_auc: 0.88211 | train_accuracy: 0.78169 | valid_auc: 0.85909 | valid_accuracy: 0.77725 |  0:01:06s\n",
            "epoch 118| loss: 0.2614  | train_auc: 0.88858 | train_accuracy: 0.75625 | valid_auc: 0.85456 | valid_accuracy: 0.74469 |  0:01:07s\n",
            "epoch 119| loss: 0.24531 | train_auc: 0.84288 | train_accuracy: 0.76859 | valid_auc: 0.80829 | valid_accuracy: 0.74658 |  0:01:07s\n",
            "epoch 120| loss: 0.25961 | train_auc: 0.88586 | train_accuracy: 0.89746 | valid_auc: 0.84421 | valid_accuracy: 0.87353 |  0:01:08s\n",
            "epoch 121| loss: 0.25869 | train_auc: 0.93743 | train_accuracy: 0.87543 | valid_auc: 0.90165 | valid_accuracy: 0.85323 |  0:01:09s\n",
            "epoch 122| loss: 0.25496 | train_auc: 0.93614 | train_accuracy: 0.78984 | valid_auc: 0.90107 | valid_accuracy: 0.76357 |  0:01:09s\n",
            "epoch 123| loss: 0.26279 | train_auc: 0.81209 | train_accuracy: 0.82223 | valid_auc: 0.7744  | valid_accuracy: 0.8051  |  0:01:10s\n",
            "epoch 124| loss: 0.25372 | train_auc: 0.84895 | train_accuracy: 0.81727 | valid_auc: 0.83065 | valid_accuracy: 0.82067 |  0:01:10s\n",
            "epoch 125| loss: 0.2378  | train_auc: 0.86336 | train_accuracy: 0.86155 | valid_auc: 0.83334 | valid_accuracy: 0.84521 |  0:01:11s\n",
            "epoch 126| loss: 0.23893 | train_auc: 0.95228 | train_accuracy: 0.88964 | valid_auc: 0.91757 | valid_accuracy: 0.85842 |  0:01:11s\n",
            "epoch 127| loss: 0.24009 | train_auc: 0.93656 | train_accuracy: 0.79976 | valid_auc: 0.89442 | valid_accuracy: 0.76404 |  0:01:12s\n",
            "epoch 128| loss: 0.24279 | train_auc: 0.91327 | train_accuracy: 0.79326 | valid_auc: 0.88519 | valid_accuracy: 0.77489 |  0:01:13s\n",
            "epoch 129| loss: 0.23353 | train_auc: 0.92831 | train_accuracy: 0.77211 | valid_auc: 0.89492 | valid_accuracy: 0.73856 |  0:01:13s\n",
            "epoch 130| loss: 0.24438 | train_auc: 0.90153 | train_accuracy: 0.79667 | valid_auc: 0.85762 | valid_accuracy: 0.77253 |  0:01:14s\n",
            "epoch 131| loss: 0.2383  | train_auc: 0.92292 | train_accuracy: 0.89646 | valid_auc: 0.88691 | valid_accuracy: 0.87164 |  0:01:14s\n",
            "epoch 132| loss: 0.22991 | train_auc: 0.93025 | train_accuracy: 0.86662 | valid_auc: 0.90003 | valid_accuracy: 0.8504  |  0:01:15s\n",
            "epoch 133| loss: 0.23539 | train_auc: 0.93172 | train_accuracy: 0.79513 | valid_auc: 0.90389 | valid_accuracy: 0.78528 |  0:01:15s\n",
            "epoch 134| loss: 0.23497 | train_auc: 0.90305 | train_accuracy: 0.76022 | valid_auc: 0.85586 | valid_accuracy: 0.73053 |  0:01:16s\n",
            "epoch 135| loss: 0.23887 | train_auc: 0.85376 | train_accuracy: 0.68631 | valid_auc: 0.82833 | valid_accuracy: 0.67862 |  0:01:17s\n",
            "epoch 136| loss: 0.23448 | train_auc: 0.8159  | train_accuracy: 0.78709 | valid_auc: 0.8002  | valid_accuracy: 0.77678 |  0:01:17s\n",
            "epoch 137| loss: 0.23288 | train_auc: 0.90569 | train_accuracy: 0.8686  | valid_auc: 0.87129 | valid_accuracy: 0.83483 |  0:01:18s\n",
            "epoch 138| loss: 0.24646 | train_auc: 0.88565 | train_accuracy: 0.76881 | valid_auc: 0.84872 | valid_accuracy: 0.74422 |  0:01:18s\n",
            "epoch 139| loss: 0.2436  | train_auc: 0.89672 | train_accuracy: 0.80361 | valid_auc: 0.87403 | valid_accuracy: 0.78811 |  0:01:19s\n",
            "epoch 140| loss: 0.25452 | train_auc: 0.92875 | train_accuracy: 0.86133 | valid_auc: 0.90154 | valid_accuracy: 0.8353  |  0:01:19s\n",
            "epoch 141| loss: 0.24614 | train_auc: 0.92759 | train_accuracy: 0.82256 | valid_auc: 0.88452 | valid_accuracy: 0.79802 |  0:01:20s\n",
            "epoch 142| loss: 0.23427 | train_auc: 0.93637 | train_accuracy: 0.81881 | valid_auc: 0.89491 | valid_accuracy: 0.78339 |  0:01:21s\n",
            "epoch 143| loss: 0.24107 | train_auc: 0.83566 | train_accuracy: 0.86474 | valid_auc: 0.79955 | valid_accuracy: 0.84096 |  0:01:21s\n",
            "epoch 144| loss: 0.22664 | train_auc: 0.94495 | train_accuracy: 0.86452 | valid_auc: 0.90293 | valid_accuracy: 0.83011 |  0:01:22s\n",
            "epoch 145| loss: 0.22909 | train_auc: 0.87159 | train_accuracy: 0.70041 | valid_auc: 0.82878 | valid_accuracy: 0.68193 |  0:01:22s\n",
            "epoch 146| loss: 0.22374 | train_auc: 0.86771 | train_accuracy: 0.75933 | valid_auc: 0.82649 | valid_accuracy: 0.73856 |  0:01:23s\n",
            "epoch 147| loss: 0.24874 | train_auc: 0.92118 | train_accuracy: 0.82146 | valid_auc: 0.89841 | valid_accuracy: 0.80651 |  0:01:23s\n",
            "epoch 148| loss: 0.23959 | train_auc: 0.92493 | train_accuracy: 0.85714 | valid_auc: 0.89023 | valid_accuracy: 0.84096 |  0:01:24s\n",
            "epoch 149| loss: 0.24438 | train_auc: 0.93812 | train_accuracy: 0.77046 | valid_auc: 0.8987  | valid_accuracy: 0.75602 |  0:01:25s\n",
            "epoch 150| loss: 0.23107 | train_auc: 0.89033 | train_accuracy: 0.73532 | valid_auc: 0.8621  | valid_accuracy: 0.71921 |  0:01:25s\n",
            "epoch 151| loss: 0.22546 | train_auc: 0.94743 | train_accuracy: 0.88005 | valid_auc: 0.91508 | valid_accuracy: 0.85748 |  0:01:26s\n",
            "epoch 152| loss: 0.22715 | train_auc: 0.91014 | train_accuracy: 0.82399 | valid_auc: 0.86878 | valid_accuracy: 0.8051  |  0:01:26s\n",
            "epoch 153| loss: 0.22122 | train_auc: 0.90193 | train_accuracy: 0.77608 | valid_auc: 0.85707 | valid_accuracy: 0.73856 |  0:01:27s\n",
            "epoch 154| loss: 0.21217 | train_auc: 0.91172 | train_accuracy: 0.79348 | valid_auc: 0.87534 | valid_accuracy: 0.76829 |  0:01:27s\n",
            "epoch 155| loss: 0.21334 | train_auc: 0.94673 | train_accuracy: 0.85813 | valid_auc: 0.90493 | valid_accuracy: 0.81925 |  0:01:28s\n",
            "epoch 156| loss: 0.21706 | train_auc: 0.9138  | train_accuracy: 0.85648 | valid_auc: 0.88003 | valid_accuracy: 0.83341 |  0:01:29s\n",
            "epoch 157| loss: 0.21116 | train_auc: 0.92888 | train_accuracy: 0.77905 | valid_auc: 0.89906 | valid_accuracy: 0.7579  |  0:01:29s\n",
            "epoch 158| loss: 0.23004 | train_auc: 0.92719 | train_accuracy: 0.79766 | valid_auc: 0.89094 | valid_accuracy: 0.76404 |  0:01:30s\n",
            "epoch 159| loss: 0.24085 | train_auc: 0.95768 | train_accuracy: 0.90605 | valid_auc: 0.91582 | valid_accuracy: 0.8806  |  0:01:30s\n",
            "epoch 160| loss: 0.22566 | train_auc: 0.95075 | train_accuracy: 0.91343 | valid_auc: 0.91674 | valid_accuracy: 0.88344 |  0:01:31s\n",
            "epoch 161| loss: 0.2036  | train_auc: 0.95261 | train_accuracy: 0.91508 | valid_auc: 0.90949 | valid_accuracy: 0.88815 |  0:01:31s\n",
            "epoch 162| loss: 0.19853 | train_auc: 0.93876 | train_accuracy: 0.86397 | valid_auc: 0.90788 | valid_accuracy: 0.83341 |  0:01:32s\n",
            "epoch 163| loss: 0.19709 | train_auc: 0.89672 | train_accuracy: 0.76859 | valid_auc: 0.87295 | valid_accuracy: 0.75177 |  0:01:32s\n",
            "epoch 164| loss: 0.21505 | train_auc: 0.94556 | train_accuracy: 0.89955 | valid_auc: 0.91185 | valid_accuracy: 0.87069 |  0:01:33s\n",
            "epoch 165| loss: 0.21513 | train_auc: 0.96348 | train_accuracy: 0.90164 | valid_auc: 0.92377 | valid_accuracy: 0.87117 |  0:01:34s\n",
            "epoch 166| loss: 0.21193 | train_auc: 0.92123 | train_accuracy: 0.84205 | valid_auc: 0.88571 | valid_accuracy: 0.83388 |  0:01:34s\n",
            "epoch 167| loss: 0.22347 | train_auc: 0.86796 | train_accuracy: 0.86739 | valid_auc: 0.84055 | valid_accuracy: 0.84521 |  0:01:35s\n",
            "epoch 168| loss: 0.20074 | train_auc: 0.94207 | train_accuracy: 0.83434 | valid_auc: 0.89789 | valid_accuracy: 0.81123 |  0:01:35s\n",
            "epoch 169| loss: 0.21088 | train_auc: 0.92823 | train_accuracy: 0.74193 | valid_auc: 0.89188 | valid_accuracy: 0.71921 |  0:01:36s\n",
            "epoch 170| loss: 0.21756 | train_auc: 0.93758 | train_accuracy: 0.83203 | valid_auc: 0.90108 | valid_accuracy: 0.81312 |  0:01:36s\n",
            "epoch 171| loss: 0.23862 | train_auc: 0.9456  | train_accuracy: 0.84348 | valid_auc: 0.90494 | valid_accuracy: 0.8202  |  0:01:37s\n",
            "epoch 172| loss: 0.23411 | train_auc: 0.97532 | train_accuracy: 0.92741 | valid_auc: 0.93678 | valid_accuracy: 0.89382 |  0:01:38s\n",
            "epoch 173| loss: 0.21178 | train_auc: 0.93887 | train_accuracy: 0.90087 | valid_auc: 0.90547 | valid_accuracy: 0.87069 |  0:01:38s\n",
            "epoch 174| loss: 0.21789 | train_auc: 0.93541 | train_accuracy: 0.81947 | valid_auc: 0.90189 | valid_accuracy: 0.80368 |  0:01:39s\n",
            "epoch 175| loss: 0.20949 | train_auc: 0.93464 | train_accuracy: 0.8111  | valid_auc: 0.89776 | valid_accuracy: 0.79047 |  0:01:39s\n",
            "epoch 176| loss: 0.20075 | train_auc: 0.97671 | train_accuracy: 0.91398 | valid_auc: 0.93407 | valid_accuracy: 0.87966 |  0:01:40s\n",
            "epoch 177| loss: 0.2145  | train_auc: 0.95576 | train_accuracy: 0.87388 | valid_auc: 0.91876 | valid_accuracy: 0.83955 |  0:01:40s\n",
            "epoch 178| loss: 0.21141 | train_auc: 0.94965 | train_accuracy: 0.90285 | valid_auc: 0.90796 | valid_accuracy: 0.86928 |  0:01:41s\n",
            "epoch 179| loss: 0.19675 | train_auc: 0.90095 | train_accuracy: 0.87433 | valid_auc: 0.86036 | valid_accuracy: 0.85323 |  0:01:42s\n",
            "epoch 180| loss: 0.20417 | train_auc: 0.94376 | train_accuracy: 0.86111 | valid_auc: 0.90793 | valid_accuracy: 0.83011 |  0:01:42s\n",
            "epoch 181| loss: 0.2029  | train_auc: 0.94557 | train_accuracy: 0.84062 | valid_auc: 0.90646 | valid_accuracy: 0.81076 |  0:01:43s\n",
            "epoch 182| loss: 0.20726 | train_auc: 0.92869 | train_accuracy: 0.87796 | valid_auc: 0.89565 | valid_accuracy: 0.85418 |  0:01:43s\n",
            "epoch 183| loss: 0.19298 | train_auc: 0.9745  | train_accuracy: 0.9023  | valid_auc: 0.93735 | valid_accuracy: 0.86503 |  0:01:44s\n",
            "epoch 184| loss: 0.19204 | train_auc: 0.93618 | train_accuracy: 0.82751 | valid_auc: 0.90833 | valid_accuracy: 0.81312 |  0:01:44s\n",
            "epoch 185| loss: 0.19236 | train_auc: 0.95903 | train_accuracy: 0.90131 | valid_auc: 0.92507 | valid_accuracy: 0.86833 |  0:01:45s\n",
            "epoch 186| loss: 0.19141 | train_auc: 0.93439 | train_accuracy: 0.82542 | valid_auc: 0.89561 | valid_accuracy: 0.78811 |  0:01:45s\n",
            "epoch 187| loss: 0.19439 | train_auc: 0.97342 | train_accuracy: 0.9164  | valid_auc: 0.93178 | valid_accuracy: 0.87872 |  0:01:46s\n",
            "epoch 188| loss: 0.19611 | train_auc: 0.93722 | train_accuracy: 0.89624 | valid_auc: 0.90837 | valid_accuracy: 0.86833 |  0:01:47s\n",
            "epoch 189| loss: 0.20361 | train_auc: 0.91095 | train_accuracy: 0.88622 | valid_auc: 0.87337 | valid_accuracy: 0.85795 |  0:01:47s\n",
            "epoch 190| loss: 0.19438 | train_auc: 0.91646 | train_accuracy: 0.83511 | valid_auc: 0.884   | valid_accuracy: 0.81501 |  0:01:48s\n",
            "epoch 191| loss: 0.19787 | train_auc: 0.90366 | train_accuracy: 0.84271 | valid_auc: 0.85765 | valid_accuracy: 0.8084  |  0:01:48s\n",
            "epoch 192| loss: 0.19388 | train_auc: 0.96282 | train_accuracy: 0.88402 | valid_auc: 0.91707 | valid_accuracy: 0.84285 |  0:01:49s\n",
            "epoch 193| loss: 0.18875 | train_auc: 0.92364 | train_accuracy: 0.83544 | valid_auc: 0.87656 | valid_accuracy: 0.80415 |  0:01:49s\n",
            "epoch 194| loss: 0.20298 | train_auc: 0.95127 | train_accuracy: 0.87763 | valid_auc: 0.92016 | valid_accuracy: 0.85134 |  0:01:50s\n",
            "epoch 195| loss: 0.20821 | train_auc: 0.96722 | train_accuracy: 0.91651 | valid_auc: 0.92752 | valid_accuracy: 0.87164 |  0:01:50s\n",
            "epoch 196| loss: 0.19188 | train_auc: 0.97555 | train_accuracy: 0.91486 | valid_auc: 0.93942 | valid_accuracy: 0.88391 |  0:01:51s\n",
            "epoch 197| loss: 0.18749 | train_auc: 0.93715 | train_accuracy: 0.85582 | valid_auc: 0.90361 | valid_accuracy: 0.83011 |  0:01:52s\n",
            "epoch 198| loss: 0.209   | train_auc: 0.96806 | train_accuracy: 0.89338 | valid_auc: 0.92811 | valid_accuracy: 0.85182 |  0:01:52s\n",
            "epoch 199| loss: 0.2133  | train_auc: 0.94751 | train_accuracy: 0.89988 | valid_auc: 0.91372 | valid_accuracy: 0.874   |  0:01:53s\n",
            "epoch 200| loss: 0.19443 | train_auc: 0.96541 | train_accuracy: 0.92257 | valid_auc: 0.9278  | valid_accuracy: 0.89429 |  0:01:53s\n",
            "epoch 201| loss: 0.19345 | train_auc: 0.97344 | train_accuracy: 0.88776 | valid_auc: 0.92919 | valid_accuracy: 0.84946 |  0:01:54s\n",
            "epoch 202| loss: 0.1837  | train_auc: 0.98085 | train_accuracy: 0.92565 | valid_auc: 0.94474 | valid_accuracy: 0.88438 |  0:01:54s\n",
            "epoch 203| loss: 0.18767 | train_auc: 0.96865 | train_accuracy: 0.8404  | valid_auc: 0.93481 | valid_accuracy: 0.81973 |  0:01:55s\n",
            "epoch 204| loss: 0.19195 | train_auc: 0.92296 | train_accuracy: 0.82476 | valid_auc: 0.87913 | valid_accuracy: 0.79802 |  0:01:55s\n",
            "epoch 205| loss: 0.20248 | train_auc: 0.96086 | train_accuracy: 0.88644 | valid_auc: 0.92302 | valid_accuracy: 0.8537  |  0:01:56s\n",
            "epoch 206| loss: 0.19652 | train_auc: 0.96428 | train_accuracy: 0.91012 | valid_auc: 0.92462 | valid_accuracy: 0.87683 |  0:01:57s\n",
            "epoch 207| loss: 0.1914  | train_auc: 0.93124 | train_accuracy: 0.8827  | valid_auc: 0.89204 | valid_accuracy: 0.85229 |  0:01:57s\n",
            "epoch 208| loss: 0.20209 | train_auc: 0.97652 | train_accuracy: 0.90759 | valid_auc: 0.93535 | valid_accuracy: 0.87683 |  0:01:58s\n",
            "epoch 209| loss: 0.19371 | train_auc: 0.93419 | train_accuracy: 0.86628 | valid_auc: 0.8992  | valid_accuracy: 0.83672 |  0:01:58s\n",
            "epoch 210| loss: 0.19407 | train_auc: 0.94729 | train_accuracy: 0.88732 | valid_auc: 0.91027 | valid_accuracy: 0.8589  |  0:01:59s\n",
            "epoch 211| loss: 0.1948  | train_auc: 0.95215 | train_accuracy: 0.85131 | valid_auc: 0.90377 | valid_accuracy: 0.8117  |  0:01:59s\n",
            "epoch 212| loss: 0.19991 | train_auc: 0.86861 | train_accuracy: 0.86342 | valid_auc: 0.8251  | valid_accuracy: 0.83955 |  0:02:00s\n",
            "epoch 213| loss: 0.1993  | train_auc: 0.95514 | train_accuracy: 0.87377 | valid_auc: 0.91118 | valid_accuracy: 0.83341 |  0:02:01s\n",
            "epoch 214| loss: 0.179   | train_auc: 0.96595 | train_accuracy: 0.92147 | valid_auc: 0.92568 | valid_accuracy: 0.88674 |  0:02:01s\n",
            "epoch 215| loss: 0.20159 | train_auc: 0.96931 | train_accuracy: 0.91585 | valid_auc: 0.92692 | valid_accuracy: 0.88013 |  0:02:02s\n",
            "epoch 216| loss: 0.19645 | train_auc: 0.96665 | train_accuracy: 0.89933 | valid_auc: 0.92509 | valid_accuracy: 0.86597 |  0:02:02s\n",
            "epoch 217| loss: 0.19078 | train_auc: 0.94902 | train_accuracy: 0.90605 | valid_auc: 0.91482 | valid_accuracy: 0.87211 |  0:02:03s\n",
            "epoch 218| loss: 0.18405 | train_auc: 0.96185 | train_accuracy: 0.86243 | valid_auc: 0.91972 | valid_accuracy: 0.83955 |  0:02:03s\n",
            "epoch 219| loss: 0.18329 | train_auc: 0.91089 | train_accuracy: 0.88159 | valid_auc: 0.87581 | valid_accuracy: 0.85229 |  0:02:04s\n",
            "epoch 220| loss: 0.18938 | train_auc: 0.94738 | train_accuracy: 0.83126 | valid_auc: 0.91157 | valid_accuracy: 0.80982 |  0:02:04s\n",
            "epoch 221| loss: 0.19539 | train_auc: 0.97725 | train_accuracy: 0.90704 | valid_auc: 0.93184 | valid_accuracy: 0.86645 |  0:02:05s\n",
            "epoch 222| loss: 0.18467 | train_auc: 0.9023  | train_accuracy: 0.83005 | valid_auc: 0.86081 | valid_accuracy: 0.79566 |  0:02:06s\n",
            "epoch 223| loss: 0.17764 | train_auc: 0.97585 | train_accuracy: 0.8903  | valid_auc: 0.93766 | valid_accuracy: 0.85418 |  0:02:06s\n",
            "epoch 224| loss: 0.18341 | train_auc: 0.97767 | train_accuracy: 0.88016 | valid_auc: 0.93647 | valid_accuracy: 0.84002 |  0:02:07s\n",
            "epoch 225| loss: 0.18169 | train_auc: 0.96375 | train_accuracy: 0.87036 | valid_auc: 0.92184 | valid_accuracy: 0.83011 |  0:02:07s\n",
            "epoch 226| loss: 0.1816  | train_auc: 0.9756  | train_accuracy: 0.92389 | valid_auc: 0.93648 | valid_accuracy: 0.88957 |  0:02:08s\n",
            "epoch 227| loss: 0.17407 | train_auc: 0.9593  | train_accuracy: 0.90021 | valid_auc: 0.92338 | valid_accuracy: 0.86173 |  0:02:08s\n",
            "epoch 228| loss: 0.1724  | train_auc: 0.96852 | train_accuracy: 0.89801 | valid_auc: 0.92584 | valid_accuracy: 0.86739 |  0:02:09s\n",
            "epoch 229| loss: 0.18483 | train_auc: 0.96905 | train_accuracy: 0.89173 | valid_auc: 0.93004 | valid_accuracy: 0.86267 |  0:02:09s\n",
            "epoch 230| loss: 0.18728 | train_auc: 0.98587 | train_accuracy: 0.94118 | valid_auc: 0.949   | valid_accuracy: 0.90514 |  0:02:10s\n",
            "epoch 231| loss: 0.18019 | train_auc: 0.9679  | train_accuracy: 0.92675 | valid_auc: 0.92906 | valid_accuracy: 0.89665 |  0:02:10s\n",
            "epoch 232| loss: 0.17322 | train_auc: 0.97316 | train_accuracy: 0.92257 | valid_auc: 0.92644 | valid_accuracy: 0.88202 |  0:02:11s\n",
            "epoch 233| loss: 0.16907 | train_auc: 0.97016 | train_accuracy: 0.86397 | valid_auc: 0.92168 | valid_accuracy: 0.82775 |  0:02:12s\n",
            "epoch 234| loss: 0.17308 | train_auc: 0.98347 | train_accuracy: 0.92565 | valid_auc: 0.94833 | valid_accuracy: 0.8858  |  0:02:12s\n",
            "epoch 235| loss: 0.19756 | train_auc: 0.96379 | train_accuracy: 0.86133 | valid_auc: 0.92333 | valid_accuracy: 0.82303 |  0:02:13s\n",
            "epoch 236| loss: 0.18122 | train_auc: 0.96922 | train_accuracy: 0.89768 | valid_auc: 0.92937 | valid_accuracy: 0.86361 |  0:02:13s\n",
            "epoch 237| loss: 0.19083 | train_auc: 0.9622  | train_accuracy: 0.85053 | valid_auc: 0.92318 | valid_accuracy: 0.82256 |  0:02:14s\n",
            "epoch 238| loss: 0.17042 | train_auc: 0.98289 | train_accuracy: 0.91618 | valid_auc: 0.93803 | valid_accuracy: 0.86881 |  0:02:14s\n",
            "epoch 239| loss: 0.18713 | train_auc: 0.9726  | train_accuracy: 0.886   | valid_auc: 0.92547 | valid_accuracy: 0.83955 |  0:02:15s\n",
            "epoch 240| loss: 0.18054 | train_auc: 0.96742 | train_accuracy: 0.90935 | valid_auc: 0.9294  | valid_accuracy: 0.8806  |  0:02:16s\n",
            "epoch 241| loss: 0.1647  | train_auc: 0.97305 | train_accuracy: 0.88248 | valid_auc: 0.92896 | valid_accuracy: 0.84804 |  0:02:16s\n",
            "epoch 242| loss: 0.18548 | train_auc: 0.96481 | train_accuracy: 0.87444 | valid_auc: 0.92285 | valid_accuracy: 0.83341 |  0:02:17s\n",
            "epoch 243| loss: 0.16597 | train_auc: 0.97108 | train_accuracy: 0.92092 | valid_auc: 0.92877 | valid_accuracy: 0.88485 |  0:02:17s\n",
            "epoch 244| loss: 0.17339 | train_auc: 0.97818 | train_accuracy: 0.8827  | valid_auc: 0.93623 | valid_accuracy: 0.8504  |  0:02:18s\n",
            "epoch 245| loss: 0.17737 | train_auc: 0.93671 | train_accuracy: 0.82465 | valid_auc: 0.89794 | valid_accuracy: 0.80179 |  0:02:18s\n",
            "epoch 246| loss: 0.18067 | train_auc: 0.97342 | train_accuracy: 0.91144 | valid_auc: 0.92515 | valid_accuracy: 0.87494 |  0:02:19s\n",
            "epoch 247| loss: 0.1798  | train_auc: 0.98111 | train_accuracy: 0.92268 | valid_auc: 0.94001 | valid_accuracy: 0.88532 |  0:02:19s\n",
            "epoch 248| loss: 0.18925 | train_auc: 0.9162  | train_accuracy: 0.87961 | valid_auc: 0.86887 | valid_accuracy: 0.83577 |  0:02:20s\n",
            "epoch 249| loss: 0.19138 | train_auc: 0.95875 | train_accuracy: 0.90428 | valid_auc: 0.92192 | valid_accuracy: 0.87588 |  0:02:21s\n",
            "epoch 250| loss: 0.185   | train_auc: 0.97081 | train_accuracy: 0.88644 | valid_auc: 0.92958 | valid_accuracy: 0.85229 |  0:02:21s\n",
            "epoch 251| loss: 0.17109 | train_auc: 0.98046 | train_accuracy: 0.91409 | valid_auc: 0.94441 | valid_accuracy: 0.87683 |  0:02:22s\n",
            "epoch 252| loss: 0.16751 | train_auc: 0.96618 | train_accuracy: 0.8958  | valid_auc: 0.92105 | valid_accuracy: 0.8589  |  0:02:22s\n",
            "epoch 253| loss: 0.1808  | train_auc: 0.97588 | train_accuracy: 0.89096 | valid_auc: 0.93361 | valid_accuracy: 0.85465 |  0:02:23s\n",
            "epoch 254| loss: 0.1673  | train_auc: 0.9572  | train_accuracy: 0.91398 | valid_auc: 0.91586 | valid_accuracy: 0.87541 |  0:02:23s\n",
            "epoch 255| loss: 0.17306 | train_auc: 0.98052 | train_accuracy: 0.89812 | valid_auc: 0.93687 | valid_accuracy: 0.85701 |  0:02:24s\n",
            "epoch 256| loss: 0.15496 | train_auc: 0.9864  | train_accuracy: 0.93832 | valid_auc: 0.94759 | valid_accuracy: 0.90042 |  0:02:24s\n",
            "epoch 257| loss: 0.17854 | train_auc: 0.97898 | train_accuracy: 0.90054 | valid_auc: 0.93754 | valid_accuracy: 0.86503 |  0:02:25s\n",
            "epoch 258| loss: 0.1684  | train_auc: 0.97955 | train_accuracy: 0.92753 | valid_auc: 0.93946 | valid_accuracy: 0.8858  |  0:02:26s\n",
            "epoch 259| loss: 0.18932 | train_auc: 0.97808 | train_accuracy: 0.92169 | valid_auc: 0.93567 | valid_accuracy: 0.88532 |  0:02:26s\n",
            "epoch 260| loss: 0.15773 | train_auc: 0.98528 | train_accuracy: 0.90935 | valid_auc: 0.93863 | valid_accuracy: 0.86503 |  0:02:27s\n",
            "epoch 261| loss: 0.17314 | train_auc: 0.98761 | train_accuracy: 0.92653 | valid_auc: 0.94611 | valid_accuracy: 0.87919 |  0:02:27s\n",
            "epoch 262| loss: 0.16509 | train_auc: 0.95466 | train_accuracy: 0.90098 | valid_auc: 0.90957 | valid_accuracy: 0.86409 |  0:02:28s\n",
            "epoch 263| loss: 0.1744  | train_auc: 0.96897 | train_accuracy: 0.90395 | valid_auc: 0.92622 | valid_accuracy: 0.86267 |  0:02:29s\n",
            "epoch 264| loss: 0.17589 | train_auc: 0.96513 | train_accuracy: 0.86045 | valid_auc: 0.92552 | valid_accuracy: 0.82681 |  0:02:29s\n",
            "epoch 265| loss: 0.17269 | train_auc: 0.95691 | train_accuracy: 0.84415 | valid_auc: 0.90467 | valid_accuracy: 0.80085 |  0:02:30s\n",
            "epoch 266| loss: 0.17082 | train_auc: 0.98673 | train_accuracy: 0.93942 | valid_auc: 0.94721 | valid_accuracy: 0.89948 |  0:02:30s\n",
            "epoch 267| loss: 0.16872 | train_auc: 0.92767 | train_accuracy: 0.9099  | valid_auc: 0.89278 | valid_accuracy: 0.88296 |  0:02:31s\n",
            "epoch 268| loss: 0.17255 | train_auc: 0.98336 | train_accuracy: 0.9294  | valid_auc: 0.93665 | valid_accuracy: 0.88485 |  0:02:31s\n",
            "epoch 269| loss: 0.17554 | train_auc: 0.94666 | train_accuracy: 0.9023  | valid_auc: 0.90692 | valid_accuracy: 0.86409 |  0:02:32s\n",
            "epoch 270| loss: 0.16655 | train_auc: 0.98372 | train_accuracy: 0.94217 | valid_auc: 0.94162 | valid_accuracy: 0.90609 |  0:02:32s\n",
            "epoch 271| loss: 0.175   | train_auc: 0.96281 | train_accuracy: 0.91937 | valid_auc: 0.92265 | valid_accuracy: 0.89571 |  0:02:33s\n",
            "epoch 272| loss: 0.17172 | train_auc: 0.98377 | train_accuracy: 0.92543 | valid_auc: 0.94251 | valid_accuracy: 0.89051 |  0:02:34s\n",
            "epoch 273| loss: 0.16156 | train_auc: 0.98785 | train_accuracy: 0.93744 | valid_auc: 0.94253 | valid_accuracy: 0.89382 |  0:02:34s\n",
            "epoch 274| loss: 0.15958 | train_auc: 0.98747 | train_accuracy: 0.93226 | valid_auc: 0.94523 | valid_accuracy: 0.88815 |  0:02:35s\n",
            "epoch 275| loss: 0.17011 | train_auc: 0.97665 | train_accuracy: 0.93854 | valid_auc: 0.93626 | valid_accuracy: 0.90278 |  0:02:35s\n",
            "epoch 276| loss: 0.16557 | train_auc: 0.98824 | train_accuracy: 0.94669 | valid_auc: 0.94954 | valid_accuracy: 0.90986 |  0:02:36s\n",
            "epoch 277| loss: 0.1691  | train_auc: 0.9894  | train_accuracy: 0.94306 | valid_auc: 0.94988 | valid_accuracy: 0.90184 |  0:02:36s\n",
            "epoch 278| loss: 0.16478 | train_auc: 0.98508 | train_accuracy: 0.93292 | valid_auc: 0.94364 | valid_accuracy: 0.89099 |  0:02:37s\n",
            "epoch 279| loss: 0.16114 | train_auc: 0.98754 | train_accuracy: 0.93821 | valid_auc: 0.94593 | valid_accuracy: 0.90137 |  0:02:37s\n",
            "epoch 280| loss: 0.16908 | train_auc: 0.98163 | train_accuracy: 0.90098 | valid_auc: 0.93497 | valid_accuracy: 0.86597 |  0:02:38s\n",
            "epoch 281| loss: 0.16128 | train_auc: 0.98733 | train_accuracy: 0.94427 | valid_auc: 0.94465 | valid_accuracy: 0.90939 |  0:02:39s\n",
            "epoch 282| loss: 0.15194 | train_auc: 0.97914 | train_accuracy: 0.91596 | valid_auc: 0.93172 | valid_accuracy: 0.88344 |  0:02:39s\n",
            "epoch 283| loss: 0.16624 | train_auc: 0.97986 | train_accuracy: 0.92918 | valid_auc: 0.93276 | valid_accuracy: 0.89476 |  0:02:40s\n",
            "epoch 284| loss: 0.15948 | train_auc: 0.97466 | train_accuracy: 0.90902 | valid_auc: 0.93303 | valid_accuracy: 0.87494 |  0:02:40s\n",
            "epoch 285| loss: 0.16229 | train_auc: 0.98498 | train_accuracy: 0.94735 | valid_auc: 0.94142 | valid_accuracy: 0.91269 |  0:02:41s\n",
            "epoch 286| loss: 0.16466 | train_auc: 0.98339 | train_accuracy: 0.94074 | valid_auc: 0.94327 | valid_accuracy: 0.90562 |  0:02:41s\n",
            "epoch 287| loss: 0.1565  | train_auc: 0.97279 | train_accuracy: 0.88303 | valid_auc: 0.93177 | valid_accuracy: 0.84757 |  0:02:42s\n",
            "epoch 288| loss: 0.15801 | train_auc: 0.96912 | train_accuracy: 0.88424 | valid_auc: 0.92996 | valid_accuracy: 0.84993 |  0:02:42s\n",
            "epoch 289| loss: 0.16589 | train_auc: 0.97934 | train_accuracy: 0.93391 | valid_auc: 0.93172 | valid_accuracy: 0.8891  |  0:02:43s\n",
            "epoch 290| loss: 0.17239 | train_auc: 0.98564 | train_accuracy: 0.91321 | valid_auc: 0.94073 | valid_accuracy: 0.874   |  0:02:44s\n",
            "epoch 291| loss: 0.16663 | train_auc: 0.96681 | train_accuracy: 0.92488 | valid_auc: 0.9231  | valid_accuracy: 0.89004 |  0:02:44s\n",
            "epoch 292| loss: 0.17265 | train_auc: 0.98399 | train_accuracy: 0.91871 | valid_auc: 0.93636 | valid_accuracy: 0.8773  |  0:02:45s\n",
            "epoch 293| loss: 0.1713  | train_auc: 0.95682 | train_accuracy: 0.91233 | valid_auc: 0.91704 | valid_accuracy: 0.8806  |  0:02:45s\n",
            "epoch 294| loss: 0.17221 | train_auc: 0.92746 | train_accuracy: 0.8426  | valid_auc: 0.87757 | valid_accuracy: 0.8051  |  0:02:46s\n",
            "epoch 295| loss: 0.16291 | train_auc: 0.94797 | train_accuracy: 0.91343 | valid_auc: 0.90816 | valid_accuracy: 0.88768 |  0:02:46s\n",
            "epoch 296| loss: 0.16207 | train_auc: 0.94933 | train_accuracy: 0.83434 | valid_auc: 0.89726 | valid_accuracy: 0.80368 |  0:02:47s\n",
            "epoch 297| loss: 0.16436 | train_auc: 0.95761 | train_accuracy: 0.92863 | valid_auc: 0.91316 | valid_accuracy: 0.89618 |  0:02:48s\n",
            "epoch 298| loss: 0.15179 | train_auc: 0.97947 | train_accuracy: 0.92191 | valid_auc: 0.93665 | valid_accuracy: 0.88674 |  0:02:48s\n",
            "epoch 299| loss: 0.15863 | train_auc: 0.9761  | train_accuracy: 0.91993 | valid_auc: 0.93677 | valid_accuracy: 0.88296 |  0:02:49s\n",
            "epoch 300| loss: 0.14936 | train_auc: 0.97854 | train_accuracy: 0.91915 | valid_auc: 0.93522 | valid_accuracy: 0.87069 |  0:02:49s\n",
            "epoch 301| loss: 0.14537 | train_auc: 0.98935 | train_accuracy: 0.93777 | valid_auc: 0.94388 | valid_accuracy: 0.89099 |  0:02:50s\n",
            "epoch 302| loss: 0.1656  | train_auc: 0.98833 | train_accuracy: 0.94052 | valid_auc: 0.94381 | valid_accuracy: 0.89759 |  0:02:50s\n",
            "epoch 303| loss: 0.15859 | train_auc: 0.98328 | train_accuracy: 0.91199 | valid_auc: 0.93818 | valid_accuracy: 0.88013 |  0:02:51s\n",
            "epoch 304| loss: 0.16194 | train_auc: 0.97661 | train_accuracy: 0.90109 | valid_auc: 0.93489 | valid_accuracy: 0.86692 |  0:02:52s\n",
            "epoch 305| loss: 0.16236 | train_auc: 0.99029 | train_accuracy: 0.93788 | valid_auc: 0.94578 | valid_accuracy: 0.8924  |  0:02:52s\n",
            "epoch 306| loss: 0.14136 | train_auc: 0.98689 | train_accuracy: 0.94151 | valid_auc: 0.94596 | valid_accuracy: 0.90042 |  0:02:53s\n",
            "epoch 307| loss: 0.15168 | train_auc: 0.98352 | train_accuracy: 0.93424 | valid_auc: 0.94012 | valid_accuracy: 0.88957 |  0:02:53s\n",
            "epoch 308| loss: 0.16676 | train_auc: 0.98492 | train_accuracy: 0.92312 | valid_auc: 0.93814 | valid_accuracy: 0.87966 |  0:02:54s\n",
            "epoch 309| loss: 0.16159 | train_auc: 0.98275 | train_accuracy: 0.93733 | valid_auc: 0.94094 | valid_accuracy: 0.90326 |  0:02:54s\n",
            "epoch 310| loss: 0.15802 | train_auc: 0.96092 | train_accuracy: 0.84767 | valid_auc: 0.90929 | valid_accuracy: 0.80604 |  0:02:55s\n",
            "epoch 311| loss: 0.15714 | train_auc: 0.99141 | train_accuracy: 0.94107 | valid_auc: 0.94763 | valid_accuracy: 0.89948 |  0:02:55s\n",
            "epoch 312| loss: 0.16247 | train_auc: 0.99097 | train_accuracy: 0.95396 | valid_auc: 0.94951 | valid_accuracy: 0.91789 |  0:02:56s\n",
            "epoch 313| loss: 0.14949 | train_auc: 0.9865  | train_accuracy: 0.92664 | valid_auc: 0.94074 | valid_accuracy: 0.88815 |  0:02:57s\n",
            "epoch 314| loss: 0.16137 | train_auc: 0.98056 | train_accuracy: 0.94228 | valid_auc: 0.93542 | valid_accuracy: 0.9075  |  0:02:57s\n",
            "epoch 315| loss: 0.14917 | train_auc: 0.98751 | train_accuracy: 0.93171 | valid_auc: 0.94189 | valid_accuracy: 0.8891  |  0:02:58s\n",
            "epoch 316| loss: 0.16398 | train_auc: 0.99143 | train_accuracy: 0.94933 | valid_auc: 0.94856 | valid_accuracy: 0.90137 |  0:02:58s\n",
            "epoch 317| loss: 0.15854 | train_auc: 0.98403 | train_accuracy: 0.91222 | valid_auc: 0.93852 | valid_accuracy: 0.86692 |  0:02:59s\n",
            "epoch 318| loss: 0.17636 | train_auc: 0.98462 | train_accuracy: 0.91552 | valid_auc: 0.93304 | valid_accuracy: 0.87588 |  0:02:59s\n",
            "epoch 319| loss: 0.14497 | train_auc: 0.99013 | train_accuracy: 0.93964 | valid_auc: 0.94485 | valid_accuracy: 0.89382 |  0:03:00s\n",
            "epoch 320| loss: 0.16804 | train_auc: 0.98446 | train_accuracy: 0.93524 | valid_auc: 0.94101 | valid_accuracy: 0.89193 |  0:03:01s\n",
            "epoch 321| loss: 0.1552  | train_auc: 0.96493 | train_accuracy: 0.93557 | valid_auc: 0.92232 | valid_accuracy: 0.90845 |  0:03:01s\n",
            "epoch 322| loss: 0.15876 | train_auc: 0.98862 | train_accuracy: 0.93634 | valid_auc: 0.94284 | valid_accuracy: 0.8924  |  0:03:02s\n",
            "epoch 323| loss: 0.15899 | train_auc: 0.98842 | train_accuracy: 0.92797 | valid_auc: 0.94184 | valid_accuracy: 0.88957 |  0:03:02s\n",
            "epoch 324| loss: 0.15364 | train_auc: 0.99204 | train_accuracy: 0.95616 | valid_auc: 0.94717 | valid_accuracy: 0.91128 |  0:03:03s\n",
            "epoch 325| loss: 0.15377 | train_auc: 0.99012 | train_accuracy: 0.93733 | valid_auc: 0.9436  | valid_accuracy: 0.89146 |  0:03:03s\n",
            "epoch 326| loss: 0.15248 | train_auc: 0.98566 | train_accuracy: 0.93887 | valid_auc: 0.94461 | valid_accuracy: 0.89759 |  0:03:04s\n",
            "epoch 327| loss: 0.15052 | train_auc: 0.99045 | train_accuracy: 0.9392  | valid_auc: 0.9429  | valid_accuracy: 0.89193 |  0:03:05s\n",
            "epoch 328| loss: 0.15834 | train_auc: 0.9839  | train_accuracy: 0.90252 | valid_auc: 0.93533 | valid_accuracy: 0.86361 |  0:03:05s\n",
            "epoch 329| loss: 0.14212 | train_auc: 0.98668 | train_accuracy: 0.91827 | valid_auc: 0.94188 | valid_accuracy: 0.87164 |  0:03:06s\n",
            "epoch 330| loss: 0.14244 | train_auc: 0.9795  | train_accuracy: 0.94537 | valid_auc: 0.93649 | valid_accuracy: 0.9042  |  0:03:06s\n",
            "epoch 331| loss: 0.16908 | train_auc: 0.99076 | train_accuracy: 0.94438 | valid_auc: 0.94389 | valid_accuracy: 0.89901 |  0:03:07s\n",
            "epoch 332| loss: 0.15077 | train_auc: 0.98585 | train_accuracy: 0.95055 | valid_auc: 0.93898 | valid_accuracy: 0.91081 |  0:03:07s\n",
            "epoch 333| loss: 0.16163 | train_auc: 0.98428 | train_accuracy: 0.93931 | valid_auc: 0.94056 | valid_accuracy: 0.89995 |  0:03:08s\n",
            "epoch 334| loss: 0.15512 | train_auc: 0.99055 | train_accuracy: 0.93711 | valid_auc: 0.94544 | valid_accuracy: 0.89571 |  0:03:09s\n",
            "epoch 335| loss: 0.1465  | train_auc: 0.98958 | train_accuracy: 0.93017 | valid_auc: 0.94468 | valid_accuracy: 0.88344 |  0:03:09s\n",
            "epoch 336| loss: 0.14256 | train_auc: 0.99137 | train_accuracy: 0.93876 | valid_auc: 0.94904 | valid_accuracy: 0.89523 |  0:03:10s\n",
            "epoch 337| loss: 0.14727 | train_auc: 0.99284 | train_accuracy: 0.95451 | valid_auc: 0.94902 | valid_accuracy: 0.90798 |  0:03:10s\n",
            "epoch 338| loss: 0.14737 | train_auc: 0.98711 | train_accuracy: 0.92136 | valid_auc: 0.9407  | valid_accuracy: 0.87541 |  0:03:11s\n",
            "epoch 339| loss: 0.16928 | train_auc: 0.98353 | train_accuracy: 0.94272 | valid_auc: 0.93937 | valid_accuracy: 0.90703 |  0:03:11s\n",
            "epoch 340| loss: 0.14433 | train_auc: 0.97642 | train_accuracy: 0.91651 | valid_auc: 0.93051 | valid_accuracy: 0.88013 |  0:03:12s\n",
            "epoch 341| loss: 0.15285 | train_auc: 0.9926  | train_accuracy: 0.9587  | valid_auc: 0.94704 | valid_accuracy: 0.91411 |  0:03:13s\n",
            "epoch 342| loss: 0.1546  | train_auc: 0.99127 | train_accuracy: 0.9533  | valid_auc: 0.94769 | valid_accuracy: 0.91741 |  0:03:13s\n",
            "epoch 343| loss: 0.15756 | train_auc: 0.9924  | train_accuracy: 0.9577  | valid_auc: 0.94835 | valid_accuracy: 0.91081 |  0:03:14s\n",
            "epoch 344| loss: 0.15313 | train_auc: 0.97921 | train_accuracy: 0.95021 | valid_auc: 0.93561 | valid_accuracy: 0.90939 |  0:03:14s\n",
            "epoch 345| loss: 0.14685 | train_auc: 0.98879 | train_accuracy: 0.92356 | valid_auc: 0.94002 | valid_accuracy: 0.87872 |  0:03:15s\n",
            "epoch 346| loss: 0.14206 | train_auc: 0.97912 | train_accuracy: 0.9229  | valid_auc: 0.93496 | valid_accuracy: 0.88627 |  0:03:15s\n",
            "epoch 347| loss: 0.15998 | train_auc: 0.99053 | train_accuracy: 0.92565 | valid_auc: 0.94569 | valid_accuracy: 0.88249 |  0:03:16s\n",
            "epoch 348| loss: 0.16301 | train_auc: 0.99006 | train_accuracy: 0.94636 | valid_auc: 0.9458  | valid_accuracy: 0.89948 |  0:03:17s\n",
            "epoch 349| loss: 0.15021 | train_auc: 0.98771 | train_accuracy: 0.93248 | valid_auc: 0.9416  | valid_accuracy: 0.89051 |  0:03:17s\n",
            "epoch 350| loss: 0.15786 | train_auc: 0.98878 | train_accuracy: 0.94063 | valid_auc: 0.94619 | valid_accuracy: 0.89665 |  0:03:18s\n",
            "epoch 351| loss: 0.15051 | train_auc: 0.98041 | train_accuracy: 0.91915 | valid_auc: 0.93552 | valid_accuracy: 0.88249 |  0:03:18s\n",
            "epoch 352| loss: 0.14236 | train_auc: 0.98598 | train_accuracy: 0.9522  | valid_auc: 0.94087 | valid_accuracy: 0.91694 |  0:03:19s\n",
            "epoch 353| loss: 0.1403  | train_auc: 0.9918  | train_accuracy: 0.94515 | valid_auc: 0.94932 | valid_accuracy: 0.90326 |  0:03:19s\n",
            "epoch 354| loss: 0.15564 | train_auc: 0.99028 | train_accuracy: 0.93678 | valid_auc: 0.94686 | valid_accuracy: 0.8858  |  0:03:20s\n",
            "epoch 355| loss: 0.14833 | train_auc: 0.98582 | train_accuracy: 0.93513 | valid_auc: 0.94451 | valid_accuracy: 0.90137 |  0:03:21s\n",
            "epoch 356| loss: 0.14779 | train_auc: 0.9906  | train_accuracy: 0.93138 | valid_auc: 0.94572 | valid_accuracy: 0.89004 |  0:03:21s\n",
            "epoch 357| loss: 0.15604 | train_auc: 0.97665 | train_accuracy: 0.92411 | valid_auc: 0.93133 | valid_accuracy: 0.88957 |  0:03:22s\n",
            "epoch 358| loss: 0.15259 | train_auc: 0.99226 | train_accuracy: 0.95242 | valid_auc: 0.9504  | valid_accuracy: 0.90514 |  0:03:22s\n",
            "epoch 359| loss: 0.15912 | train_auc: 0.98854 | train_accuracy: 0.93358 | valid_auc: 0.94795 | valid_accuracy: 0.89099 |  0:03:23s\n",
            "epoch 360| loss: 0.13684 | train_auc: 0.99212 | train_accuracy: 0.96046 | valid_auc: 0.95181 | valid_accuracy: 0.91836 |  0:03:24s\n",
            "epoch 361| loss: 0.14463 | train_auc: 0.99248 | train_accuracy: 0.95704 | valid_auc: 0.95095 | valid_accuracy: 0.91505 |  0:03:24s\n",
            "epoch 362| loss: 0.15795 | train_auc: 0.99312 | train_accuracy: 0.95418 | valid_auc: 0.95011 | valid_accuracy: 0.90939 |  0:03:25s\n",
            "epoch 363| loss: 0.15323 | train_auc: 0.9801  | train_accuracy: 0.92213 | valid_auc: 0.93884 | valid_accuracy: 0.88768 |  0:03:25s\n",
            "epoch 364| loss: 0.14632 | train_auc: 0.98737 | train_accuracy: 0.93314 | valid_auc: 0.94226 | valid_accuracy: 0.89193 |  0:03:26s\n",
            "epoch 365| loss: 0.15644 | train_auc: 0.97726 | train_accuracy: 0.93457 | valid_auc: 0.93273 | valid_accuracy: 0.89287 |  0:03:26s\n",
            "epoch 366| loss: 0.15244 | train_auc: 0.98674 | train_accuracy: 0.93678 | valid_auc: 0.94145 | valid_accuracy: 0.90184 |  0:03:27s\n",
            "epoch 367| loss: 0.15009 | train_auc: 0.98909 | train_accuracy: 0.94063 | valid_auc: 0.94316 | valid_accuracy: 0.90326 |  0:03:28s\n",
            "epoch 368| loss: 0.14665 | train_auc: 0.98709 | train_accuracy: 0.94922 | valid_auc: 0.94018 | valid_accuracy: 0.91458 |  0:03:28s\n",
            "epoch 369| loss: 0.13439 | train_auc: 0.99157 | train_accuracy: 0.95187 | valid_auc: 0.94769 | valid_accuracy: 0.90986 |  0:03:29s\n",
            "epoch 370| loss: 0.1467  | train_auc: 0.99041 | train_accuracy: 0.93975 | valid_auc: 0.94738 | valid_accuracy: 0.89712 |  0:03:29s\n",
            "epoch 371| loss: 0.15456 | train_auc: 0.99135 | train_accuracy: 0.94118 | valid_auc: 0.94434 | valid_accuracy: 0.89004 |  0:03:30s\n",
            "epoch 372| loss: 0.15067 | train_auc: 0.98313 | train_accuracy: 0.91838 | valid_auc: 0.93653 | valid_accuracy: 0.87872 |  0:03:30s\n",
            "epoch 373| loss: 0.14973 | train_auc: 0.9897  | train_accuracy: 0.95275 | valid_auc: 0.9444  | valid_accuracy: 0.91128 |  0:03:31s\n",
            "epoch 374| loss: 0.14602 | train_auc: 0.9903  | train_accuracy: 0.95363 | valid_auc: 0.94612 | valid_accuracy: 0.91505 |  0:03:32s\n",
            "epoch 375| loss: 0.14725 | train_auc: 0.99072 | train_accuracy: 0.95198 | valid_auc: 0.94756 | valid_accuracy: 0.91269 |  0:03:32s\n",
            "epoch 376| loss: 0.16183 | train_auc: 0.98631 | train_accuracy: 0.94966 | valid_auc: 0.94205 | valid_accuracy: 0.91458 |  0:03:33s\n",
            "epoch 377| loss: 0.15056 | train_auc: 0.98867 | train_accuracy: 0.95176 | valid_auc: 0.94329 | valid_accuracy: 0.91128 |  0:03:33s\n",
            "epoch 378| loss: 0.14036 | train_auc: 0.99087 | train_accuracy: 0.93777 | valid_auc: 0.94184 | valid_accuracy: 0.89382 |  0:03:34s\n",
            "epoch 379| loss: 0.14625 | train_auc: 0.98804 | train_accuracy: 0.94052 | valid_auc: 0.94173 | valid_accuracy: 0.89901 |  0:03:34s\n",
            "epoch 380| loss: 0.14964 | train_auc: 0.99    | train_accuracy: 0.93446 | valid_auc: 0.94262 | valid_accuracy: 0.89523 |  0:03:35s\n",
            "epoch 381| loss: 0.15415 | train_auc: 0.99212 | train_accuracy: 0.9446  | valid_auc: 0.94712 | valid_accuracy: 0.90042 |  0:03:36s\n",
            "epoch 382| loss: 0.13945 | train_auc: 0.99278 | train_accuracy: 0.95198 | valid_auc: 0.95063 | valid_accuracy: 0.90798 |  0:03:36s\n",
            "epoch 383| loss: 0.14939 | train_auc: 0.97882 | train_accuracy: 0.90395 | valid_auc: 0.93273 | valid_accuracy: 0.86361 |  0:03:37s\n",
            "epoch 384| loss: 0.15247 | train_auc: 0.99024 | train_accuracy: 0.9229  | valid_auc: 0.94137 | valid_accuracy: 0.87777 |  0:03:37s\n",
            "epoch 385| loss: 0.14816 | train_auc: 0.9888  | train_accuracy: 0.93711 | valid_auc: 0.94525 | valid_accuracy: 0.89429 |  0:03:38s\n",
            "epoch 386| loss: 0.13969 | train_auc: 0.99345 | train_accuracy: 0.94713 | valid_auc: 0.94979 | valid_accuracy: 0.90137 |  0:03:38s\n",
            "epoch 387| loss: 0.13492 | train_auc: 0.99255 | train_accuracy: 0.94735 | valid_auc: 0.94626 | valid_accuracy: 0.90042 |  0:03:39s\n",
            "epoch 388| loss: 0.1476  | train_auc: 0.99282 | train_accuracy: 0.95715 | valid_auc: 0.94946 | valid_accuracy: 0.90892 |  0:03:40s\n",
            "epoch 389| loss: 0.14771 | train_auc: 0.9834  | train_accuracy: 0.90869 | valid_auc: 0.93805 | valid_accuracy: 0.86786 |  0:03:40s\n",
            "epoch 390| loss: 0.13689 | train_auc: 0.9939  | train_accuracy: 0.95077 | valid_auc: 0.95044 | valid_accuracy: 0.89948 |  0:03:41s\n",
            "epoch 391| loss: 0.15867 | train_auc: 0.99195 | train_accuracy: 0.94284 | valid_auc: 0.94594 | valid_accuracy: 0.89335 |  0:03:41s\n",
            "epoch 392| loss: 0.14356 | train_auc: 0.98788 | train_accuracy: 0.95286 | valid_auc: 0.94376 | valid_accuracy: 0.91505 |  0:03:42s\n",
            "epoch 393| loss: 0.16071 | train_auc: 0.99144 | train_accuracy: 0.94361 | valid_auc: 0.94383 | valid_accuracy: 0.89665 |  0:03:42s\n",
            "epoch 394| loss: 0.15281 | train_auc: 0.98951 | train_accuracy: 0.93446 | valid_auc: 0.94127 | valid_accuracy: 0.89193 |  0:03:43s\n",
            "epoch 395| loss: 0.14833 | train_auc: 0.99391 | train_accuracy: 0.95352 | valid_auc: 0.94928 | valid_accuracy: 0.90845 |  0:03:44s\n",
            "epoch 396| loss: 0.13555 | train_auc: 0.99007 | train_accuracy: 0.94812 | valid_auc: 0.94683 | valid_accuracy: 0.90892 |  0:03:44s\n",
            "epoch 397| loss: 0.14893 | train_auc: 0.98909 | train_accuracy: 0.93601 | valid_auc: 0.94357 | valid_accuracy: 0.89099 |  0:03:45s\n",
            "epoch 398| loss: 0.15172 | train_auc: 0.98594 | train_accuracy: 0.95154 | valid_auc: 0.94015 | valid_accuracy: 0.90939 |  0:03:45s\n",
            "epoch 399| loss: 0.14519 | train_auc: 0.98903 | train_accuracy: 0.95451 | valid_auc: 0.94428 | valid_accuracy: 0.91128 |  0:03:46s\n",
            "epoch 400| loss: 0.14884 | train_auc: 0.99417 | train_accuracy: 0.95892 | valid_auc: 0.95053 | valid_accuracy: 0.90798 |  0:03:47s\n",
            "epoch 401| loss: 0.14271 | train_auc: 0.99464 | train_accuracy: 0.96068 | valid_auc: 0.95096 | valid_accuracy: 0.91222 |  0:03:47s\n",
            "epoch 402| loss: 0.14597 | train_auc: 0.99127 | train_accuracy: 0.94592 | valid_auc: 0.94465 | valid_accuracy: 0.90278 |  0:03:48s\n",
            "epoch 403| loss: 0.14542 | train_auc: 0.99213 | train_accuracy: 0.95297 | valid_auc: 0.94516 | valid_accuracy: 0.90892 |  0:03:48s\n",
            "epoch 404| loss: 0.14139 | train_auc: 0.99387 | train_accuracy: 0.95561 | valid_auc: 0.94971 | valid_accuracy: 0.90467 |  0:03:49s\n",
            "epoch 405| loss: 0.13716 | train_auc: 0.99095 | train_accuracy: 0.95991 | valid_auc: 0.94972 | valid_accuracy: 0.92025 |  0:03:49s\n",
            "epoch 406| loss: 0.14143 | train_auc: 0.99244 | train_accuracy: 0.95726 | valid_auc: 0.94902 | valid_accuracy: 0.91411 |  0:03:50s\n",
            "epoch 407| loss: 0.15247 | train_auc: 0.99241 | train_accuracy: 0.94173 | valid_auc: 0.94504 | valid_accuracy: 0.89665 |  0:03:51s\n",
            "epoch 408| loss: 0.1403  | train_auc: 0.99274 | train_accuracy: 0.95176 | valid_auc: 0.94615 | valid_accuracy: 0.90798 |  0:03:51s\n",
            "epoch 409| loss: 0.13188 | train_auc: 0.98896 | train_accuracy: 0.95462 | valid_auc: 0.94426 | valid_accuracy: 0.916   |  0:03:52s\n",
            "epoch 410| loss: 0.15595 | train_auc: 0.99316 | train_accuracy: 0.9609  | valid_auc: 0.9504  | valid_accuracy: 0.92072 |  0:03:52s\n",
            "epoch 411| loss: 0.13798 | train_auc: 0.98747 | train_accuracy: 0.93766 | valid_auc: 0.94372 | valid_accuracy: 0.89287 |  0:03:53s\n",
            "epoch 412| loss: 0.12874 | train_auc: 0.99395 | train_accuracy: 0.9501  | valid_auc: 0.94937 | valid_accuracy: 0.90326 |  0:03:53s\n",
            "epoch 413| loss: 0.14285 | train_auc: 0.99232 | train_accuracy: 0.93986 | valid_auc: 0.94461 | valid_accuracy: 0.89476 |  0:03:54s\n",
            "epoch 414| loss: 0.13879 | train_auc: 0.99454 | train_accuracy: 0.95462 | valid_auc: 0.94808 | valid_accuracy: 0.90562 |  0:03:55s\n",
            "epoch 415| loss: 0.13525 | train_auc: 0.99347 | train_accuracy: 0.94999 | valid_auc: 0.9471  | valid_accuracy: 0.90042 |  0:03:55s\n",
            "epoch 416| loss: 0.14048 | train_auc: 0.9937  | train_accuracy: 0.95848 | valid_auc: 0.94737 | valid_accuracy: 0.91364 |  0:03:56s\n",
            "epoch 417| loss: 0.13628 | train_auc: 0.9887  | train_accuracy: 0.95253 | valid_auc: 0.94392 | valid_accuracy: 0.91364 |  0:03:56s\n",
            "epoch 418| loss: 0.13732 | train_auc: 0.99207 | train_accuracy: 0.95198 | valid_auc: 0.94688 | valid_accuracy: 0.90939 |  0:03:57s\n",
            "epoch 419| loss: 0.14547 | train_auc: 0.99315 | train_accuracy: 0.95374 | valid_auc: 0.94915 | valid_accuracy: 0.90986 |  0:03:57s\n",
            "epoch 420| loss: 0.14246 | train_auc: 0.9937  | train_accuracy: 0.95319 | valid_auc: 0.94983 | valid_accuracy: 0.90656 |  0:03:58s\n",
            "epoch 421| loss: 0.14105 | train_auc: 0.9919  | train_accuracy: 0.94977 | valid_auc: 0.94701 | valid_accuracy: 0.90373 |  0:03:58s\n",
            "epoch 422| loss: 0.14417 | train_auc: 0.98758 | train_accuracy: 0.93865 | valid_auc: 0.94051 | valid_accuracy: 0.89712 |  0:03:59s\n",
            "epoch 423| loss: 0.13732 | train_auc: 0.99348 | train_accuracy: 0.96024 | valid_auc: 0.94934 | valid_accuracy: 0.91553 |  0:04:00s\n",
            "epoch 424| loss: 0.13322 | train_auc: 0.99381 | train_accuracy: 0.96222 | valid_auc: 0.94787 | valid_accuracy: 0.91789 |  0:04:00s\n",
            "epoch 425| loss: 0.146   | train_auc: 0.99401 | train_accuracy: 0.95099 | valid_auc: 0.9469  | valid_accuracy: 0.90373 |  0:04:01s\n",
            "epoch 426| loss: 0.14506 | train_auc: 0.98942 | train_accuracy: 0.93358 | valid_auc: 0.94026 | valid_accuracy: 0.89051 |  0:04:01s\n",
            "epoch 427| loss: 0.14453 | train_auc: 0.99351 | train_accuracy: 0.9631  | valid_auc: 0.94934 | valid_accuracy: 0.9193  |  0:04:02s\n",
            "epoch 428| loss: 0.13464 | train_auc: 0.99454 | train_accuracy: 0.96145 | valid_auc: 0.94855 | valid_accuracy: 0.91081 |  0:04:03s\n",
            "epoch 429| loss: 0.13364 | train_auc: 0.99478 | train_accuracy: 0.96002 | valid_auc: 0.94893 | valid_accuracy: 0.90703 |  0:04:03s\n",
            "epoch 430| loss: 0.14526 | train_auc: 0.98768 | train_accuracy: 0.9533  | valid_auc: 0.94161 | valid_accuracy: 0.91269 |  0:04:04s\n",
            "epoch 431| loss: 0.14162 | train_auc: 0.99264 | train_accuracy: 0.93953 | valid_auc: 0.94453 | valid_accuracy: 0.89854 |  0:04:04s\n",
            "epoch 432| loss: 0.14547 | train_auc: 0.99191 | train_accuracy: 0.93942 | valid_auc: 0.94377 | valid_accuracy: 0.89476 |  0:04:05s\n",
            "epoch 433| loss: 0.1443  | train_auc: 0.9948  | train_accuracy: 0.96541 | valid_auc: 0.95136 | valid_accuracy: 0.91694 |  0:04:05s\n",
            "epoch 434| loss: 0.13067 | train_auc: 0.98815 | train_accuracy: 0.95484 | valid_auc: 0.94237 | valid_accuracy: 0.91222 |  0:04:06s\n",
            "epoch 435| loss: 0.13632 | train_auc: 0.99114 | train_accuracy: 0.9566  | valid_auc: 0.94366 | valid_accuracy: 0.91034 |  0:04:07s\n",
            "epoch 436| loss: 0.13066 | train_auc: 0.99514 | train_accuracy: 0.95759 | valid_auc: 0.95005 | valid_accuracy: 0.90986 |  0:04:07s\n",
            "epoch 437| loss: 0.13805 | train_auc: 0.99432 | train_accuracy: 0.9533  | valid_auc: 0.94871 | valid_accuracy: 0.90231 |  0:04:08s\n",
            "epoch 438| loss: 0.14378 | train_auc: 0.99462 | train_accuracy: 0.96442 | valid_auc: 0.9487  | valid_accuracy: 0.91694 |  0:04:08s\n",
            "epoch 439| loss: 0.14281 | train_auc: 0.99471 | train_accuracy: 0.95826 | valid_auc: 0.94837 | valid_accuracy: 0.91222 |  0:04:09s\n",
            "epoch 440| loss: 0.13269 | train_auc: 0.99446 | train_accuracy: 0.95804 | valid_auc: 0.94829 | valid_accuracy: 0.91222 |  0:04:09s\n",
            "epoch 441| loss: 0.13876 | train_auc: 0.99371 | train_accuracy: 0.95616 | valid_auc: 0.95004 | valid_accuracy: 0.91411 |  0:04:10s\n",
            "epoch 442| loss: 0.13479 | train_auc: 0.99378 | train_accuracy: 0.95638 | valid_auc: 0.94917 | valid_accuracy: 0.91364 |  0:04:11s\n",
            "epoch 443| loss: 0.13734 | train_auc: 0.99426 | train_accuracy: 0.96376 | valid_auc: 0.95019 | valid_accuracy: 0.92119 |  0:04:11s\n",
            "epoch 444| loss: 0.13616 | train_auc: 0.99213 | train_accuracy: 0.96222 | valid_auc: 0.94839 | valid_accuracy: 0.92308 |  0:04:12s\n",
            "epoch 445| loss: 0.15864 | train_auc: 0.99418 | train_accuracy: 0.95837 | valid_auc: 0.95007 | valid_accuracy: 0.91553 |  0:04:12s\n",
            "epoch 446| loss: 0.15554 | train_auc: 0.99333 | train_accuracy: 0.95297 | valid_auc: 0.94925 | valid_accuracy: 0.91081 |  0:04:13s\n",
            "epoch 447| loss: 0.14786 | train_auc: 0.99501 | train_accuracy: 0.96046 | valid_auc: 0.94998 | valid_accuracy: 0.91269 |  0:04:13s\n",
            "epoch 448| loss: 0.13984 | train_auc: 0.99469 | train_accuracy: 0.95363 | valid_auc: 0.94828 | valid_accuracy: 0.90656 |  0:04:14s\n",
            "epoch 449| loss: 0.13922 | train_auc: 0.99434 | train_accuracy: 0.95495 | valid_auc: 0.94818 | valid_accuracy: 0.90798 |  0:04:15s\n",
            "epoch 450| loss: 0.14565 | train_auc: 0.99403 | train_accuracy: 0.95881 | valid_auc: 0.94665 | valid_accuracy: 0.91269 |  0:04:15s\n",
            "epoch 451| loss: 0.13482 | train_auc: 0.99403 | train_accuracy: 0.95704 | valid_auc: 0.94805 | valid_accuracy: 0.91458 |  0:04:16s\n",
            "epoch 452| loss: 0.13625 | train_auc: 0.99488 | train_accuracy: 0.96255 | valid_auc: 0.94986 | valid_accuracy: 0.91883 |  0:04:16s\n",
            "epoch 453| loss: 0.12724 | train_auc: 0.99337 | train_accuracy: 0.95859 | valid_auc: 0.9492  | valid_accuracy: 0.91034 |  0:04:17s\n",
            "epoch 454| loss: 0.14137 | train_auc: 0.99192 | train_accuracy: 0.95077 | valid_auc: 0.94754 | valid_accuracy: 0.9075  |  0:04:17s\n",
            "epoch 455| loss: 0.15193 | train_auc: 0.99482 | train_accuracy: 0.9598  | valid_auc: 0.94977 | valid_accuracy: 0.91317 |  0:04:18s\n",
            "epoch 456| loss: 0.13289 | train_auc: 0.99462 | train_accuracy: 0.96255 | valid_auc: 0.94974 | valid_accuracy: 0.91789 |  0:04:18s\n",
            "epoch 457| loss: 0.13895 | train_auc: 0.99273 | train_accuracy: 0.95859 | valid_auc: 0.94857 | valid_accuracy: 0.91269 |  0:04:19s\n",
            "epoch 458| loss: 0.14388 | train_auc: 0.99282 | train_accuracy: 0.9468  | valid_auc: 0.94801 | valid_accuracy: 0.89854 |  0:04:20s\n",
            "epoch 459| loss: 0.1336  | train_auc: 0.99453 | train_accuracy: 0.95572 | valid_auc: 0.94996 | valid_accuracy: 0.91175 |  0:04:20s\n",
            "epoch 460| loss: 0.15455 | train_auc: 0.99382 | train_accuracy: 0.96167 | valid_auc: 0.9501  | valid_accuracy: 0.91883 |  0:04:21s\n",
            "epoch 461| loss: 0.13536 | train_auc: 0.99246 | train_accuracy: 0.96145 | valid_auc: 0.94796 | valid_accuracy: 0.92355 |  0:04:21s\n",
            "epoch 462| loss: 0.15262 | train_auc: 0.99385 | train_accuracy: 0.96024 | valid_auc: 0.94929 | valid_accuracy: 0.92072 |  0:04:22s\n",
            "epoch 463| loss: 0.13888 | train_auc: 0.99365 | train_accuracy: 0.94823 | valid_auc: 0.94899 | valid_accuracy: 0.90467 |  0:04:23s\n",
            "epoch 464| loss: 0.12673 | train_auc: 0.98577 | train_accuracy: 0.92984 | valid_auc: 0.93839 | valid_accuracy: 0.8891  |  0:04:23s\n",
            "epoch 465| loss: 0.13954 | train_auc: 0.99184 | train_accuracy: 0.94548 | valid_auc: 0.94507 | valid_accuracy: 0.90137 |  0:04:24s\n",
            "epoch 466| loss: 0.14319 | train_auc: 0.99465 | train_accuracy: 0.9566  | valid_auc: 0.9498  | valid_accuracy: 0.91175 |  0:04:24s\n",
            "epoch 467| loss: 0.15101 | train_auc: 0.99475 | train_accuracy: 0.96332 | valid_auc: 0.95022 | valid_accuracy: 0.91741 |  0:04:25s\n",
            "epoch 468| loss: 0.1339  | train_auc: 0.99459 | train_accuracy: 0.96222 | valid_auc: 0.95091 | valid_accuracy: 0.91175 |  0:04:25s\n",
            "epoch 469| loss: 0.13599 | train_auc: 0.99471 | train_accuracy: 0.96013 | valid_auc: 0.94972 | valid_accuracy: 0.91128 |  0:04:26s\n",
            "epoch 470| loss: 0.13384 | train_auc: 0.9929  | train_accuracy: 0.95165 | valid_auc: 0.94531 | valid_accuracy: 0.90278 |  0:04:26s\n",
            "epoch 471| loss: 0.13619 | train_auc: 0.9951  | train_accuracy: 0.96134 | valid_auc: 0.94889 | valid_accuracy: 0.91411 |  0:04:27s\n",
            "epoch 472| loss: 0.13666 | train_auc: 0.99528 | train_accuracy: 0.96156 | valid_auc: 0.94955 | valid_accuracy: 0.91647 |  0:04:28s\n",
            "epoch 473| loss: 0.13134 | train_auc: 0.9926  | train_accuracy: 0.95429 | valid_auc: 0.94653 | valid_accuracy: 0.9075  |  0:04:28s\n",
            "epoch 474| loss: 0.13542 | train_auc: 0.99329 | train_accuracy: 0.95231 | valid_auc: 0.94824 | valid_accuracy: 0.90845 |  0:04:29s\n",
            "epoch 475| loss: 0.1325  | train_auc: 0.994   | train_accuracy: 0.95176 | valid_auc: 0.94941 | valid_accuracy: 0.90514 |  0:04:29s\n",
            "epoch 476| loss: 0.14078 | train_auc: 0.99513 | train_accuracy: 0.96013 | valid_auc: 0.95108 | valid_accuracy: 0.91128 |  0:04:30s\n",
            "epoch 477| loss: 0.14749 | train_auc: 0.99505 | train_accuracy: 0.96222 | valid_auc: 0.95126 | valid_accuracy: 0.9193  |  0:04:31s\n",
            "epoch 478| loss: 0.13598 | train_auc: 0.99498 | train_accuracy: 0.95826 | valid_auc: 0.94998 | valid_accuracy: 0.91269 |  0:04:31s\n",
            "epoch 479| loss: 0.14409 | train_auc: 0.99543 | train_accuracy: 0.96244 | valid_auc: 0.94958 | valid_accuracy: 0.91458 |  0:04:32s\n",
            "epoch 480| loss: 0.13974 | train_auc: 0.9939  | train_accuracy: 0.96354 | valid_auc: 0.94665 | valid_accuracy: 0.91883 |  0:04:32s\n",
            "epoch 481| loss: 0.13024 | train_auc: 0.99529 | train_accuracy: 0.962   | valid_auc: 0.94925 | valid_accuracy: 0.91269 |  0:04:33s\n",
            "epoch 482| loss: 0.13819 | train_auc: 0.99506 | train_accuracy: 0.96211 | valid_auc: 0.94965 | valid_accuracy: 0.91364 |  0:04:33s\n",
            "epoch 483| loss: 0.14735 | train_auc: 0.99353 | train_accuracy: 0.96156 | valid_auc: 0.94854 | valid_accuracy: 0.916   |  0:04:34s\n",
            "epoch 484| loss: 0.13598 | train_auc: 0.9949  | train_accuracy: 0.95837 | valid_auc: 0.95122 | valid_accuracy: 0.91364 |  0:04:35s\n",
            "epoch 485| loss: 0.12928 | train_auc: 0.99481 | train_accuracy: 0.95627 | valid_auc: 0.9512  | valid_accuracy: 0.91175 |  0:04:35s\n",
            "epoch 486| loss: 0.13556 | train_auc: 0.99491 | train_accuracy: 0.96013 | valid_auc: 0.95161 | valid_accuracy: 0.916   |  0:04:36s\n",
            "epoch 487| loss: 0.1382  | train_auc: 0.99549 | train_accuracy: 0.96079 | valid_auc: 0.9517  | valid_accuracy: 0.91411 |  0:04:36s\n",
            "epoch 488| loss: 0.12599 | train_auc: 0.99553 | train_accuracy: 0.96211 | valid_auc: 0.95121 | valid_accuracy: 0.91269 |  0:04:37s\n",
            "epoch 489| loss: 0.14648 | train_auc: 0.99527 | train_accuracy: 0.96167 | valid_auc: 0.9509  | valid_accuracy: 0.91458 |  0:04:37s\n",
            "epoch 490| loss: 0.1352  | train_auc: 0.99388 | train_accuracy: 0.95418 | valid_auc: 0.94966 | valid_accuracy: 0.90798 |  0:04:38s\n",
            "epoch 491| loss: 0.12397 | train_auc: 0.99483 | train_accuracy: 0.95605 | valid_auc: 0.9505  | valid_accuracy: 0.90939 |  0:04:39s\n",
            "epoch 492| loss: 0.13414 | train_auc: 0.99494 | train_accuracy: 0.96244 | valid_auc: 0.95126 | valid_accuracy: 0.91553 |  0:04:39s\n",
            "epoch 493| loss: 0.12963 | train_auc: 0.99489 | train_accuracy: 0.96365 | valid_auc: 0.95092 | valid_accuracy: 0.91977 |  0:04:40s\n",
            "epoch 494| loss: 0.14583 | train_auc: 0.99469 | train_accuracy: 0.96211 | valid_auc: 0.95095 | valid_accuracy: 0.91411 |  0:04:40s\n",
            "epoch 495| loss: 0.13708 | train_auc: 0.99499 | train_accuracy: 0.95958 | valid_auc: 0.95081 | valid_accuracy: 0.91128 |  0:04:41s\n",
            "epoch 496| loss: 0.13023 | train_auc: 0.99139 | train_accuracy: 0.93215 | valid_auc: 0.94327 | valid_accuracy: 0.88391 |  0:04:41s\n",
            "epoch 497| loss: 0.1277  | train_auc: 0.99441 | train_accuracy: 0.95517 | valid_auc: 0.94856 | valid_accuracy: 0.90278 |  0:04:42s\n",
            "epoch 498| loss: 0.13977 | train_auc: 0.99461 | train_accuracy: 0.96112 | valid_auc: 0.94898 | valid_accuracy: 0.91364 |  0:04:42s\n",
            "epoch 499| loss: 0.14232 | train_auc: 0.99526 | train_accuracy: 0.96266 | valid_auc: 0.95043 | valid_accuracy: 0.91458 |  0:04:43s\n",
            "epoch 500| loss: 0.13952 | train_auc: 0.99521 | train_accuracy: 0.96255 | valid_auc: 0.9502  | valid_accuracy: 0.91505 |  0:04:44s\n",
            "epoch 501| loss: 0.13595 | train_auc: 0.99523 | train_accuracy: 0.96519 | valid_auc: 0.95088 | valid_accuracy: 0.91883 |  0:04:44s\n",
            "epoch 502| loss: 0.14323 | train_auc: 0.99542 | train_accuracy: 0.96696 | valid_auc: 0.94979 | valid_accuracy: 0.9193  |  0:04:45s\n",
            "epoch 503| loss: 0.14434 | train_auc: 0.99489 | train_accuracy: 0.95726 | valid_auc: 0.94806 | valid_accuracy: 0.91175 |  0:04:45s\n",
            "epoch 504| loss: 0.14123 | train_auc: 0.99339 | train_accuracy: 0.95121 | valid_auc: 0.94647 | valid_accuracy: 0.90137 |  0:04:46s\n",
            "epoch 505| loss: 0.12193 | train_auc: 0.99438 | train_accuracy: 0.95925 | valid_auc: 0.94939 | valid_accuracy: 0.91222 |  0:04:46s\n",
            "epoch 506| loss: 0.13607 | train_auc: 0.99555 | train_accuracy: 0.9653  | valid_auc: 0.95127 | valid_accuracy: 0.91883 |  0:04:47s\n",
            "epoch 507| loss: 0.13934 | train_auc: 0.99547 | train_accuracy: 0.96674 | valid_auc: 0.95058 | valid_accuracy: 0.92072 |  0:04:48s\n",
            "epoch 508| loss: 0.14276 | train_auc: 0.9941  | train_accuracy: 0.96299 | valid_auc: 0.94829 | valid_accuracy: 0.91741 |  0:04:48s\n",
            "epoch 509| loss: 0.13338 | train_auc: 0.99536 | train_accuracy: 0.96431 | valid_auc: 0.95036 | valid_accuracy: 0.91741 |  0:04:49s\n",
            "epoch 510| loss: 0.14722 | train_auc: 0.99557 | train_accuracy: 0.96387 | valid_auc: 0.95084 | valid_accuracy: 0.91505 |  0:04:49s\n",
            "epoch 511| loss: 0.12915 | train_auc: 0.99552 | train_accuracy: 0.96189 | valid_auc: 0.9512  | valid_accuracy: 0.91411 |  0:04:50s\n",
            "\n",
            "Early stopping occurred at epoch 511 with best_epoch = 461 and best_valid_accuracy = 0.92355\n",
            "Best weights from best epoch are automatically used!\n",
            "Model training time: 292 seconds\n",
            "\n",
            "Evaluating model...\n",
            "\n",
            "Model validation metrics for class 1 (in_smoke):\n",
            "Precision: 0.952\n",
            "Recall: 0.954\n",
            "F1: 0.953\n",
            "Accuracy: 0.924\n",
            "AUC: 0.948\n",
            "Specificity: 0.797\n",
            "MCC: 0.753\n",
            "\n",
            "\n",
            "Model validation metrics for class 0 (clean_air):\n",
            "Precision: 0.804\n",
            "Recall: 0.797\n",
            "F1: 0.8\n",
            "\n",
            "\n",
            "Model test metrics for class 1 (in_smoke):\n",
            "Precision: 0.963\n",
            "Recall: 0.957\n",
            "F1: 0.96\n",
            "Accuracy: 0.935\n",
            "AUC: 0.963\n",
            "Specificity: 0.847\n",
            "MCC: 0.795\n",
            "\n",
            "\n",
            "Model test metrics for class 0 (clean_air):\n",
            "Precision: 0.823\n",
            "Recall: 0.847\n",
            "F1: 0.835\n"
          ]
        }
      ]
    },
    {
      "cell_type": "code",
      "metadata": {
        "colab": {
          "base_uri": "https://localhost:8080/",
          "height": 282
        },
        "id": "KO4ZkZ1Mm80W",
        "outputId": "be2b2f6e-7abd-4ade-deab-c3ef3569edc4"
      },
      "source": [
        "# Plot loss\n",
        "plt.plot(tabnet_clf.history['loss'])"
      ],
      "execution_count": 13,
      "outputs": [
        {
          "output_type": "execute_result",
          "data": {
            "text/plain": [
              "[<matplotlib.lines.Line2D at 0x7f5e9e536a10>]"
            ]
          },
          "metadata": {},
          "execution_count": 13
        },
        {
          "output_type": "display_data",
          "data": {
            "image/png": "[encoded data removed]",
            "text/plain": [
              "<Figure size 432x288 with 1 Axes>"
            ]
          },
          "metadata": {
            "needs_background": "light"
          }
        }
      ]
    },
    {
      "cell_type": "code",
      "metadata": {
        "colab": {
          "base_uri": "https://localhost:8080/",
          "height": 282
        },
        "id": "ZWcCJFWznNNp",
        "outputId": "616b3708-a8fd-4228-8cb9-672cab85bc9f"
      },
      "source": [
        "# Plot accuracy\n",
        "plt.plot(tabnet_clf.history['train_accuracy'])\n",
        "plt.plot(tabnet_clf.history['valid_accuracy'])"
      ],
      "execution_count": 14,
      "outputs": [
        {
          "output_type": "execute_result",
          "data": {
            "text/plain": [
              "[<matplotlib.lines.Line2D at 0x7f5e9e080050>]"
            ]
          },
          "metadata": {},
          "execution_count": 14
        },
        {
          "output_type": "display_data",
          "data": {
            "image/png": "[encoded data removed]",
            "text/plain": [
              "<Figure size 432x288 with 1 Axes>"
            ]
          },
          "metadata": {
            "needs_background": "light"
          }
        }
      ]
    },
    {
      "cell_type": "code",
      "metadata": {
        "colab": {
          "base_uri": "https://localhost:8080/",
          "height": 282
        },
        "id": "FX4LMo3qlR_v",
        "outputId": "a5cc3a2a-0855-4111-8137-e879fa8d5a65"
      },
      "source": [
        "# Plot AUC\n",
        "plt.plot(tabnet_clf.history['train_auc'])\n",
        "plt.plot(tabnet_clf.history['valid_auc'])"
      ],
      "execution_count": 15,
      "outputs": [
        {
          "output_type": "execute_result",
          "data": {
            "text/plain": [
              "[<matplotlib.lines.Line2D at 0x7f5e9dfe46d0>]"
            ]
          },
          "metadata": {},
          "execution_count": 15
        },
        {
          "output_type": "display_data",
          "data": {
            "image/png": "[encoded data removed]",
            "text/plain": [
              "<Figure size 432x288 with 1 Axes>"
            ]
          },
          "metadata": {
            "needs_background": "light"
          }
        }
      ]
    },
    {
      "cell_type": "code",
      "metadata": {
        "colab": {
          "base_uri": "https://localhost:8080/",
          "height": 282
        },
        "id": "pzK9zfM0k8Nv",
        "outputId": "b03ef69e-45f5-4ebd-a9fb-62432d014557"
      },
      "source": [
        "# Plot learning rates\n",
        "plt.plot(tabnet_clf.history['lr'])"
      ],
      "execution_count": 16,
      "outputs": [
        {
          "output_type": "execute_result",
          "data": {
            "text/plain": [
              "[<matplotlib.lines.Line2D at 0x7f5e9dfcaa10>]"
            ]
          },
          "metadata": {},
          "execution_count": 16
        },
        {
          "output_type": "display_data",
          "data": {
            "image/png": "[encoded data removed]",
            "text/plain": [
              "<Figure size 432x288 with 1 Axes>"
            ]
          },
          "metadata": {
            "needs_background": "light"
          }
        }
      ]
    },
    {
      "cell_type": "markdown",
      "metadata": {
        "id": "60LPHrDVKpm3"
      },
      "source": [
        "## Save and load model"
      ]
    },
    {
      "cell_type": "code",
      "metadata": {
        "id": "iDs_dV1EJwE_",
        "colab": {
          "base_uri": "https://localhost:8080/"
        },
        "outputId": "02d57bc5-eb41-4704-eecc-37af28f14e14"
      },
      "source": [
        "preds = tabnet_clf.predict(X_test)\n",
        "test_f1 = f1_score(y_true=y_test, y_pred=preds)\n",
        "\n",
        "saved_filepath = 'tabnet_clf'\n",
        "tabnet_clf.save_model(saved_filepath)\n",
        "\n",
        "loaded_tabnet_clf = TabNetClassifier()\n",
        "loaded_tabnet_clf.load_model(saved_filepath + '.zip')\n",
        "\n",
        "loaded_preds = loaded_tabnet_clf.predict(X_test)\n",
        "loaded_test_f1 = f1_score(y_true=y_test, y_pred=loaded_preds)\n",
        "\n",
        "assert(test_f1 == loaded_test_f1)"
      ],
      "execution_count": 17,
      "outputs": [
        {
          "output_type": "stream",
          "name": "stdout",
          "text": [
            "Successfully saved model at tabnet_clf.zip\n",
            "Device used : cuda\n",
            "Device used : cuda\n"
          ]
        }
      ]
    },
    {
      "cell_type": "markdown",
      "metadata": {
        "id": "OY28QoD81kpH"
      },
      "source": [
        "## Model explainability"
      ]
    },
    {
      "cell_type": "code",
      "metadata": {
        "id": "5nzSe0FEaUCN",
        "colab": {
          "base_uri": "https://localhost:8080/",
          "height": 282
        },
        "outputId": "e98202ed-eeda-4bb9-b3af-1bd06c434277"
      },
      "source": [
        "# Plot feature importance bar\n",
        "\n",
        "gas_scan_features = ['gas_scan_' + str(i) for i in range(10)]\n",
        "feat_importances = pd.Series(tabnet_clf.feature_importances_, index=gas_scan_features[1:])\n",
        "feat_importances.nlargest(20).plot(kind='barh')"
      ],
      "execution_count": 18,
      "outputs": [
        {
          "output_type": "execute_result",
          "data": {
            "text/plain": [
              "<matplotlib.axes._subplots.AxesSubplot at 0x7f5e9decb450>"
            ]
          },
          "metadata": {},
          "execution_count": 18
        },
        {
          "output_type": "display_data",
          "data": {
            "image/png": "[encoded data removed]",
            "text/plain": [
              "<Figure size 432x288 with 1 Axes>"
            ]
          },
          "metadata": {
            "needs_background": "light"
          }
        }
      ]
    }
  ]
}